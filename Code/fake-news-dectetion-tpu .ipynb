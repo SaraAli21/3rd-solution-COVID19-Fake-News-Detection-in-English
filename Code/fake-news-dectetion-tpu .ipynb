{
 "cells": [
  {
   "cell_type": "markdown",
   "metadata": {
    "papermill": {
     "duration": 0.027971,
     "end_time": "2020-12-22T05:20:21.384413",
     "exception": false,
     "start_time": "2020-12-22T05:20:21.356442",
     "status": "completed"
    },
    "tags": []
   },
   "source": [
    "## About this notebook\n",
    "主要采用五折"
   ]
  },
  {
   "cell_type": "markdown",
   "metadata": {
    "papermill": {
     "duration": 0.027595,
     "end_time": "2020-12-22T05:20:21.438138",
     "exception": false,
     "start_time": "2020-12-22T05:20:21.410543",
     "status": "completed"
    },
    "tags": []
   },
   "source": [
    "还可以尝试的点:\n",
    "\n",
    "五折交叉均值融合 base  0.97709\n",
    "\n",
    "单折     base   0.974\n",
    "\n",
    "五折交叉验证,权重融合  0.9789\n",
    "\n",
    "领域内数据进一步预训练\n",
    "\n",
    "1.加中文数据集 用xlm-bert\n",
    "\n",
    "2.精调warm_up    0.9794\n",
    "\n",
    "4.dropout  0.9706\n",
    "\n",
    "3.利用伪标签 \n",
    "\n",
    "4.标签平滑    0.9790\n",
    "\n",
    "5:添加印度语数据\n",
    "\n",
    "6:五折交叉验证,平均融合  0.9814\n",
    "\n",
    "7:五折交叉验证,权重融合  0.9789\n",
    "\n",
    "8:单折,平均融合\n",
    "\n",
    "9:单折,权重融合\n",
    " ,\n",
    "10:长度 130 0.978, 192 0.976\n",
    "\n"
   ]
  },
  {
   "cell_type": "markdown",
   "metadata": {
    "papermill": {
     "duration": 0.025284,
     "end_time": "2020-12-22T05:20:21.489172",
     "exception": false,
     "start_time": "2020-12-22T05:20:21.463888",
     "status": "completed"
    },
    "tags": []
   },
   "source": [
    "五折交叉验证 base\n",
    "\n",
    "单折     base     \n",
    "\n"
   ]
  },
  {
   "cell_type": "code",
   "execution_count": 1,
   "metadata": {
    "_cell_guid": "b1076dfc-b9ad-4769-8c92-a6c4dae69d19",
    "_uuid": "8f2839f25d086af736a60e9eeb907d3b93b6e0e5",
    "execution": {
     "iopub.execute_input": "2020-12-22T05:20:21.553460Z",
     "iopub.status.busy": "2020-12-22T05:20:21.552692Z",
     "iopub.status.idle": "2020-12-22T05:20:32.598713Z",
     "shell.execute_reply": "2020-12-22T05:20:32.597804Z"
    },
    "papermill": {
     "duration": 11.083997,
     "end_time": "2020-12-22T05:20:32.598855",
     "exception": false,
     "start_time": "2020-12-22T05:20:21.514858",
     "status": "completed"
    },
    "tags": []
   },
   "outputs": [
    {
     "name": "stderr",
     "output_type": "stream",
     "text": [
      "\u001b[34m\u001b[1mwandb\u001b[0m: \u001b[33mWARNING\u001b[0m W&B installed but not logged in.  Run `wandb login` or set the WANDB_API_KEY env variable.\n"
     ]
    }
   ],
   "source": [
    "import os\n",
    "import jieba\n",
    "import numpy as np \n",
    "import tensorflow_addons as tfa\n",
    "from tensorflow_addons.optimizers import AdamW\n",
    "import pandas as pd\n",
    "import tensorflow as tf\n",
    "from tensorflow.keras.layers import Dense, Input,Dropout\n",
    "from tensorflow.keras.utils import to_categorical\n",
    "from tensorflow.keras.optimizers import Adam\n",
    "import copy\n",
    "import random\n",
    "import tensorflow.keras.backend as K\n",
    "import matplotlib.pyplot as plt\n",
    "from string import digits, punctuation\n",
    "import re\n",
    "from imblearn.under_sampling import RandomUnderSampler\n",
    "from tensorflow.keras.models import Model\n",
    "from tensorflow.keras.callbacks import ModelCheckpoint\n",
    "from transformers import AutoModel\n",
    "import matplotlib.pyplot as plt\n",
    "from kaggle_datasets import KaggleDatasets\n",
    "import transformers\n",
    "from transformers import BertTokenizer,BertModel,BertConfig,BertForPreTraining\n",
    "from sklearn.model_selection import KFold, train_test_split\n",
    "from sklearn.metrics import f1_score,confusion_matrix,precision_score,recall_score\n",
    "from transformers import TFAutoModel, AutoTokenizer\n",
    "from tqdm.notebook import tqdm\n",
    "from tokenizers import Tokenizer, models, pre_tokenizers, decoders, processors\n",
    "import pandas as pd\n",
    "from gensim.models.word2vec import Word2VecKeyedVectors\n",
    "AUTO = tf.data.experimental.AUTOTUNE"
   ]
  },
  {
   "cell_type": "code",
   "execution_count": 2,
   "metadata": {
    "execution": {
     "iopub.execute_input": "2020-12-22T05:20:32.672423Z",
     "iopub.status.busy": "2020-12-22T05:20:32.671269Z",
     "iopub.status.idle": "2020-12-22T05:20:32.675545Z",
     "shell.execute_reply": "2020-12-22T05:20:32.676269Z"
    },
    "papermill": {
     "duration": 0.046905,
     "end_time": "2020-12-22T05:20:32.676448",
     "exception": false,
     "start_time": "2020-12-22T05:20:32.629543",
     "status": "completed"
    },
    "tags": []
   },
   "outputs": [
    {
     "data": {
      "text/plain": [
       "'2.11.0'"
      ]
     },
     "execution_count": 2,
     "metadata": {},
     "output_type": "execute_result"
    }
   ],
   "source": [
    "transformers.__version__"
   ]
  },
  {
   "cell_type": "markdown",
   "metadata": {
    "papermill": {
     "duration": 0.026416,
     "end_time": "2020-12-22T05:20:32.729716",
     "exception": false,
     "start_time": "2020-12-22T05:20:32.703300",
     "status": "completed"
    },
    "tags": []
   },
   "source": [
    "## Helper Functions"
   ]
  },
  {
   "cell_type": "code",
   "execution_count": 3,
   "metadata": {
    "execution": {
     "iopub.execute_input": "2020-12-22T05:20:32.788259Z",
     "iopub.status.busy": "2020-12-22T05:20:32.787267Z",
     "iopub.status.idle": "2020-12-22T05:20:32.794381Z",
     "shell.execute_reply": "2020-12-22T05:20:32.794859Z"
    },
    "papermill": {
     "duration": 0.038847,
     "end_time": "2020-12-22T05:20:32.795007",
     "exception": false,
     "start_time": "2020-12-22T05:20:32.756160",
     "status": "completed"
    },
    "tags": []
   },
   "outputs": [],
   "source": [
    "def seed_everything(seed=0):\n",
    "    np.random.seed(seed)\n",
    "    tf.random.set_seed(seed)\n",
    "    os.environ['PYTHONHASHSEED'] = str(seed)\n",
    "    os.environ['TF_DETERMINISTIC_OPS'] = '1'\n",
    "    os.environ['PYTHONHASHSEED']=str(seed)\n",
    "    random.seed(seed)\n",
    "\n",
    "\n",
    "seed = 1024\n",
    "seed_everything(seed)"
   ]
  },
  {
   "cell_type": "code",
   "execution_count": 4,
   "metadata": {
    "_cell_guid": "79c7e3d0-c299-4dcb-8224-4455121ee9b0",
    "_uuid": "d629ff2d2480ee46fbb7e2d37f6b5fab8052498a",
    "execution": {
     "iopub.execute_input": "2020-12-22T05:20:32.852793Z",
     "iopub.status.busy": "2020-12-22T05:20:32.852067Z",
     "iopub.status.idle": "2020-12-22T05:20:32.860623Z",
     "shell.execute_reply": "2020-12-22T05:20:32.861098Z"
    },
    "papermill": {
     "duration": 0.038986,
     "end_time": "2020-12-22T05:20:32.861258",
     "exception": false,
     "start_time": "2020-12-22T05:20:32.822272",
     "status": "completed"
    },
    "tags": []
   },
   "outputs": [],
   "source": [
    "def fast_encode(texts, tokenizer, chunk_size=256, maxlen=512):\n",
    "    \"\"\"\n",
    "    https://www.kaggle.com/xhlulu/jigsaw-tpu-distilbert-with-huggingface-and-keras\n",
    "    \"\"\"\n",
    "    tokenizer.enable_truncation(max_length=maxlen)\n",
    "    tokenizer.enable_padding(max_length=maxlen)\n",
    "    all_ids = []\n",
    "    \n",
    "    for i in tqdm(range(0, len(texts), chunk_size)):\n",
    "        text_chunk = texts[i:i+chunk_size].tolist()\n",
    "        encs = tokenizer.encode_batch(text_chunk)\n",
    "        all_ids.extend([enc.ids for enc in encs])\n",
    "    \n",
    "    return np.array(all_ids)"
   ]
  },
  {
   "cell_type": "code",
   "execution_count": 5,
   "metadata": {
    "execution": {
     "iopub.execute_input": "2020-12-22T05:20:32.920574Z",
     "iopub.status.busy": "2020-12-22T05:20:32.919849Z",
     "iopub.status.idle": "2020-12-22T05:20:32.925039Z",
     "shell.execute_reply": "2020-12-22T05:20:32.925550Z"
    },
    "papermill": {
     "duration": 0.037217,
     "end_time": "2020-12-22T05:20:32.925708",
     "exception": false,
     "start_time": "2020-12-22T05:20:32.888491",
     "status": "completed"
    },
    "tags": []
   },
   "outputs": [],
   "source": [
    "def regular_encode(texts, tokenizer, maxlen=512):\n",
    "    enc_di = tokenizer.batch_encode_plus(\n",
    "        texts, \n",
    "        return_token_type_ids=False,\n",
    "        pad_to_max_length=True,\n",
    "        max_length=maxlen     \n",
    "    )\n",
    "    \n",
    "    return np.array(enc_di['input_ids'])"
   ]
  },
  {
   "cell_type": "code",
   "execution_count": 6,
   "metadata": {
    "execution": {
     "iopub.execute_input": "2020-12-22T05:20:32.985294Z",
     "iopub.status.busy": "2020-12-22T05:20:32.984624Z",
     "iopub.status.idle": "2020-12-22T05:20:32.994919Z",
     "shell.execute_reply": "2020-12-22T05:20:32.994241Z"
    },
    "papermill": {
     "duration": 0.041788,
     "end_time": "2020-12-22T05:20:32.995042",
     "exception": false,
     "start_time": "2020-12-22T05:20:32.953254",
     "status": "completed"
    },
    "tags": []
   },
   "outputs": [],
   "source": [
    "def build_model(transformer, max_len=512):\n",
    "    \"\"\"\n",
    "    https://www.kaggle.com/xhlulu/jigsaw-tpu-distilbert-with-huggingface-and-keras\n",
    "    \"\"\"\n",
    "    input_word_ids = Input(shape=(max_len,), dtype=tf.int32, name=\"input_word_ids\")\n",
    "    sequence_output = transformer(input_word_ids)[0]\n",
    "    cls_token = sequence_output[:, 0, :]\n",
    "    out = Dense(2, activation='softmax')(cls_token)\n",
    "    \n",
    "    model = Model(inputs=input_word_ids, outputs=out)\n",
    "    model.compile(Adam(lr=5e-6), loss=tf.keras.losses.CategoricalCrossentropy(label_smoothing = 0.01), metrics=['accuracy',tfa.metrics.F1Score(num_classes=2,average='weighted')])\n",
    "    \n",
    "    return model"
   ]
  },
  {
   "cell_type": "markdown",
   "metadata": {
    "papermill": {
     "duration": 0.027044,
     "end_time": "2020-12-22T05:20:33.049810",
     "exception": false,
     "start_time": "2020-12-22T05:20:33.022766",
     "status": "completed"
    },
    "tags": []
   },
   "source": [
    "## TPU Configs"
   ]
  },
  {
   "cell_type": "code",
   "execution_count": 7,
   "metadata": {
    "execution": {
     "iopub.execute_input": "2020-12-22T05:20:33.108727Z",
     "iopub.status.busy": "2020-12-22T05:20:33.108019Z",
     "iopub.status.idle": "2020-12-22T05:20:37.172508Z",
     "shell.execute_reply": "2020-12-22T05:20:37.171884Z"
    },
    "papermill": {
     "duration": 4.09527,
     "end_time": "2020-12-22T05:20:37.172624",
     "exception": false,
     "start_time": "2020-12-22T05:20:33.077354",
     "status": "completed"
    },
    "tags": []
   },
   "outputs": [
    {
     "name": "stdout",
     "output_type": "stream",
     "text": [
      "Running on TPU  grpc://10.0.0.2:8470\n",
      "REPLICAS:  8\n"
     ]
    }
   ],
   "source": [
    "# Detect hardware, return appropriate distribution strategy\n",
    "#调用kaggle上的tpu必要代码\n",
    "try:\n",
    "    # TPU detection. No parameters necessary if TPU_NAME environment variable is\n",
    "    # set: this is always the case on Kaggle.\n",
    "    tpu = tf.distribute.cluster_resolver.TPUClusterResolver()\n",
    "    print('Running on TPU ', tpu.master())\n",
    "except ValueError:\n",
    "    tpu = None\n",
    "\n",
    "if tpu:\n",
    "    tf.config.experimental_connect_to_cluster(tpu)\n",
    "    tf.tpu.experimental.initialize_tpu_system(tpu)\n",
    "    strategy = tf.distribute.experimental.TPUStrategy(tpu)\n",
    "else:\n",
    "    # Default distribution strategy in Tensorflow. Works on CPU and single GPU.\n",
    "    strategy = tf.distribute.get_strategy()\n",
    "\n",
    "print(\"REPLICAS: \", strategy.num_replicas_in_sync)"
   ]
  },
  {
   "cell_type": "code",
   "execution_count": 8,
   "metadata": {
    "execution": {
     "iopub.execute_input": "2020-12-22T05:20:37.237032Z",
     "iopub.status.busy": "2020-12-22T05:20:37.236329Z",
     "iopub.status.idle": "2020-12-22T05:20:37.239936Z",
     "shell.execute_reply": "2020-12-22T05:20:37.239430Z"
    },
    "papermill": {
     "duration": 0.038611,
     "end_time": "2020-12-22T05:20:37.240046",
     "exception": false,
     "start_time": "2020-12-22T05:20:37.201435",
     "status": "completed"
    },
    "tags": []
   },
   "outputs": [],
   "source": [
    "AUTO = tf.data.experimental.AUTOTUNE\n",
    "\n",
    "# 五折交叉验证\n",
    "kfold = KFold(n_splits=5, random_state=seed, shuffle=True)#五折交叉验证\n",
    "# Configuration\n",
    "EPOCHS = 12\n",
    "BATCH_SIZE = 32 * strategy.num_replicas_in_sync\n",
    "MAX_LEN = 140\n",
    "use_external1 = False\n",
    "use_external2 = True\n",
    "use_pseudo = True\n",
    "use_valid = True\n",
    "DISPLAY_PLOT = True\n",
    "# MODEL = 'roberta-base'\n",
    "# # \"roberta-base\",\"roberta-large\",\"bert-base-uncased\",\"ernie-2.0-en\""
   ]
  },
  {
   "cell_type": "code",
   "execution_count": 9,
   "metadata": {
    "execution": {
     "iopub.execute_input": "2020-12-22T05:20:37.301807Z",
     "iopub.status.busy": "2020-12-22T05:20:37.300704Z",
     "iopub.status.idle": "2020-12-22T05:20:37.307111Z",
     "shell.execute_reply": "2020-12-22T05:20:37.307613Z"
    },
    "papermill": {
     "duration": 0.039618,
     "end_time": "2020-12-22T05:20:37.307766",
     "exception": false,
     "start_time": "2020-12-22T05:20:37.268148",
     "status": "completed"
    },
    "tags": []
   },
   "outputs": [],
   "source": [
    "#数据预处理\n",
    "def fake_data_process(data):\n",
    "    for i,label in enumerate(data['label']):\n",
    "        if(data['label'][i] == \"real\"):\n",
    "            data['label'][i] = 1\n",
    "        else:\n",
    "            data['label'][i] = 0"
   ]
  },
  {
   "cell_type": "markdown",
   "metadata": {
    "papermill": {
     "duration": 0.028116,
     "end_time": "2020-12-22T05:20:37.365067",
     "exception": false,
     "start_time": "2020-12-22T05:20:37.336951",
     "status": "completed"
    },
    "tags": []
   },
   "source": [
    "## Load text data into memory"
   ]
  },
  {
   "cell_type": "code",
   "execution_count": 10,
   "metadata": {
    "execution": {
     "iopub.execute_input": "2020-12-22T05:20:37.427517Z",
     "iopub.status.busy": "2020-12-22T05:20:37.426527Z",
     "iopub.status.idle": "2020-12-22T05:20:38.877482Z",
     "shell.execute_reply": "2020-12-22T05:20:38.878088Z"
    },
    "papermill": {
     "duration": 1.483309,
     "end_time": "2020-12-22T05:20:38.878248",
     "exception": false,
     "start_time": "2020-12-22T05:20:37.394939",
     "status": "completed"
    },
    "tags": []
   },
   "outputs": [],
   "source": [
    "fake_train = pd.read_excel(\"/kaggle/input/aaai-fake-news/Constraint_English_Train.xlsx\")\n",
    "fake_valid = pd.read_excel(\"/kaggle/input/aaai-fake-news/Constraint_English_Val.xlsx\")\n",
    "fake_test = pd.read_excel(\"/kaggle/input/aaai-fake-news/Constraint_English_Test.xlsx\")\n",
    "fake_external1 = pd.read_excel(\"/kaggle/input/aaai-fake-news/external_1.xlsx\")\n",
    "fake_external2 = pd.read_excel(\"/kaggle/input/aaai-fake-news/external_2.xlsx\")\n",
    "df_pseudo = pd.read_csv(\"../input/aaai-fake-news/pseudo_submission.csv\")\n",
    "df_pseudo['label'] = np.mean(df_pseudo.iloc[:, -5:], axis=1) # label merge by mean\n",
    "df_pseudo_cleaned = df_pseudo.loc[np.logical_or(df_pseudo['label'] > 0.95, df_pseudo['label'] < 0.05), ['tweet', 'label']].reset_index(drop=True) # select 0\n",
    "df_pseudo_cleaned['label'] = np.round(df_pseudo_cleaned['label']).astype('int')"
   ]
  },
  {
   "cell_type": "code",
   "execution_count": 11,
   "metadata": {
    "execution": {
     "iopub.execute_input": "2020-12-22T05:20:38.938920Z",
     "iopub.status.busy": "2020-12-22T05:20:38.938231Z",
     "iopub.status.idle": "2020-12-22T05:20:38.955008Z",
     "shell.execute_reply": "2020-12-22T05:20:38.954464Z"
    },
    "papermill": {
     "duration": 0.048078,
     "end_time": "2020-12-22T05:20:38.955117",
     "exception": false,
     "start_time": "2020-12-22T05:20:38.907039",
     "status": "completed"
    },
    "tags": []
   },
   "outputs": [
    {
     "data": {
      "text/html": [
       "<div>\n",
       "<style scoped>\n",
       "    .dataframe tbody tr th:only-of-type {\n",
       "        vertical-align: middle;\n",
       "    }\n",
       "\n",
       "    .dataframe tbody tr th {\n",
       "        vertical-align: top;\n",
       "    }\n",
       "\n",
       "    .dataframe thead th {\n",
       "        text-align: right;\n",
       "    }\n",
       "</style>\n",
       "<table border=\"1\" class=\"dataframe\">\n",
       "  <thead>\n",
       "    <tr style=\"text-align: right;\">\n",
       "      <th></th>\n",
       "      <th>tweet</th>\n",
       "      <th>label</th>\n",
       "    </tr>\n",
       "  </thead>\n",
       "  <tbody>\n",
       "    <tr>\n",
       "      <th>0</th>\n",
       "      <td>\"Spraying chlorine or alcohol on the skin kill...</td>\n",
       "      <td>0</td>\n",
       "    </tr>\n",
       "    <tr>\n",
       "      <th>1</th>\n",
       "      <td>\"Only older adults and young people are at risk\"</td>\n",
       "      <td>0</td>\n",
       "    </tr>\n",
       "    <tr>\n",
       "      <th>2</th>\n",
       "      <td>\"Children cannot get COVID-19\"</td>\n",
       "      <td>0</td>\n",
       "    </tr>\n",
       "    <tr>\n",
       "      <th>3</th>\n",
       "      <td>\"COVID-19 is just like the flu\"</td>\n",
       "      <td>0</td>\n",
       "    </tr>\n",
       "    <tr>\n",
       "      <th>4</th>\n",
       "      <td>\"Everyone with COVID-19 dies\"</td>\n",
       "      <td>0</td>\n",
       "    </tr>\n",
       "    <tr>\n",
       "      <th>5</th>\n",
       "      <td>\"Cats and dogs spread coronavirus\"</td>\n",
       "      <td>0</td>\n",
       "    </tr>\n",
       "    <tr>\n",
       "      <th>6</th>\n",
       "      <td>\"Face masks always protect against coronavirus\"</td>\n",
       "      <td>0</td>\n",
       "    </tr>\n",
       "    <tr>\n",
       "      <th>7</th>\n",
       "      <td>\"Hand dryers kill coronavirus\"</td>\n",
       "      <td>0</td>\n",
       "    </tr>\n",
       "    <tr>\n",
       "      <th>8</th>\n",
       "      <td>\"SARS-CoV-2 is just a mutated form of the comm...</td>\n",
       "      <td>0</td>\n",
       "    </tr>\n",
       "    <tr>\n",
       "      <th>9</th>\n",
       "      <td>\"You have to be with someone for 10 minutes to...</td>\n",
       "      <td>0</td>\n",
       "    </tr>\n",
       "    <tr>\n",
       "      <th>10</th>\n",
       "      <td>\"Rinsing the nose with saline protects against...</td>\n",
       "      <td>0</td>\n",
       "    </tr>\n",
       "    <tr>\n",
       "      <th>11</th>\n",
       "      <td>\"You can protect yourself by gargling bleach\"</td>\n",
       "      <td>0</td>\n",
       "    </tr>\n",
       "    <tr>\n",
       "      <th>12</th>\n",
       "      <td>\"Antibiotics kill coronavirus\"</td>\n",
       "      <td>0</td>\n",
       "    </tr>\n",
       "    <tr>\n",
       "      <th>13</th>\n",
       "      <td>\"Thermal scanners can diagnose coronavirus\"</td>\n",
       "      <td>0</td>\n",
       "    </tr>\n",
       "    <tr>\n",
       "      <th>14</th>\n",
       "      <td>\"Garlic protects against coronaviruses\"</td>\n",
       "      <td>0</td>\n",
       "    </tr>\n",
       "    <tr>\n",
       "      <th>15</th>\n",
       "      <td>\"Parcels from China can spread coronavirus\"</td>\n",
       "      <td>0</td>\n",
       "    </tr>\n",
       "    <tr>\n",
       "      <th>16</th>\n",
       "      <td>\"Home remedies can cure and protect against CO...</td>\n",
       "      <td>0</td>\n",
       "    </tr>\n",
       "    <tr>\n",
       "      <th>17</th>\n",
       "      <td>\"You can catch coronavirus from eating Chinese...</td>\n",
       "      <td>0</td>\n",
       "    </tr>\n",
       "    <tr>\n",
       "      <th>18</th>\n",
       "      <td>\"You can catch coronavirus from urine and feces\"</td>\n",
       "      <td>0</td>\n",
       "    </tr>\n",
       "    <tr>\n",
       "      <th>19</th>\n",
       "      <td>\"The virus will die off when temperatures rise...</td>\n",
       "      <td>0</td>\n",
       "    </tr>\n",
       "    <tr>\n",
       "      <th>20</th>\n",
       "      <td>\"Coronavirus is the deadliest virus known to h...</td>\n",
       "      <td>0</td>\n",
       "    </tr>\n",
       "    <tr>\n",
       "      <th>21</th>\n",
       "      <td>\"Flu and pneumonia vaccines can protect agains...</td>\n",
       "      <td>0</td>\n",
       "    </tr>\n",
       "    <tr>\n",
       "      <th>22</th>\n",
       "      <td>\"The virus originated in a laboratory in China\"</td>\n",
       "      <td>0</td>\n",
       "    </tr>\n",
       "    <tr>\n",
       "      <th>23</th>\n",
       "      <td>\"The outbreak began because people ate bat soup\"</td>\n",
       "      <td>0</td>\n",
       "    </tr>\n",
       "    <tr>\n",
       "      <th>24</th>\n",
       "      <td>\"5G helps SARS-CoV-2 spread\"</td>\n",
       "      <td>0</td>\n",
       "    </tr>\n",
       "    <tr>\n",
       "      <th>25</th>\n",
       "      <td>\"Drinking alcohol reduces the risk of infection\"</td>\n",
       "      <td>0</td>\n",
       "    </tr>\n",
       "    <tr>\n",
       "      <th>26</th>\n",
       "      <td>\"Injecting or consuming bleach or disinfectant...</td>\n",
       "      <td>0</td>\n",
       "    </tr>\n",
       "  </tbody>\n",
       "</table>\n",
       "</div>"
      ],
      "text/plain": [
       "                                                tweet  label\n",
       "0   \"Spraying chlorine or alcohol on the skin kill...      0\n",
       "1    \"Only older adults and young people are at risk\"      0\n",
       "2                      \"Children cannot get COVID-19\"      0\n",
       "3                     \"COVID-19 is just like the flu\"      0\n",
       "4                       \"Everyone with COVID-19 dies\"      0\n",
       "5                  \"Cats and dogs spread coronavirus\"      0\n",
       "6     \"Face masks always protect against coronavirus\"      0\n",
       "7                      \"Hand dryers kill coronavirus\"      0\n",
       "8   \"SARS-CoV-2 is just a mutated form of the comm...      0\n",
       "9   \"You have to be with someone for 10 minutes to...      0\n",
       "10  \"Rinsing the nose with saline protects against...      0\n",
       "11      \"You can protect yourself by gargling bleach\"      0\n",
       "12                     \"Antibiotics kill coronavirus\"      0\n",
       "13        \"Thermal scanners can diagnose coronavirus\"      0\n",
       "14            \"Garlic protects against coronaviruses\"      0\n",
       "15        \"Parcels from China can spread coronavirus\"      0\n",
       "16  \"Home remedies can cure and protect against CO...      0\n",
       "17  \"You can catch coronavirus from eating Chinese...      0\n",
       "18   \"You can catch coronavirus from urine and feces\"      0\n",
       "19  \"The virus will die off when temperatures rise...      0\n",
       "20  \"Coronavirus is the deadliest virus known to h...      0\n",
       "21  \"Flu and pneumonia vaccines can protect agains...      0\n",
       "22    \"The virus originated in a laboratory in China\"      0\n",
       "23   \"The outbreak began because people ate bat soup\"      0\n",
       "24                       \"5G helps SARS-CoV-2 spread\"      0\n",
       "25   \"Drinking alcohol reduces the risk of infection\"      0\n",
       "26  \"Injecting or consuming bleach or disinfectant...      0"
      ]
     },
     "execution_count": 11,
     "metadata": {},
     "output_type": "execute_result"
    }
   ],
   "source": [
    "fake_external2"
   ]
  },
  {
   "cell_type": "code",
   "execution_count": 12,
   "metadata": {
    "execution": {
     "iopub.execute_input": "2020-12-22T05:20:39.017395Z",
     "iopub.status.busy": "2020-12-22T05:20:39.016749Z",
     "iopub.status.idle": "2020-12-22T05:20:39.031874Z",
     "shell.execute_reply": "2020-12-22T05:20:39.031315Z"
    },
    "papermill": {
     "duration": 0.047745,
     "end_time": "2020-12-22T05:20:39.032006",
     "exception": false,
     "start_time": "2020-12-22T05:20:38.984261",
     "status": "completed"
    },
    "tags": []
   },
   "outputs": [
    {
     "data": {
      "text/html": [
       "<div>\n",
       "<style scoped>\n",
       "    .dataframe tbody tr th:only-of-type {\n",
       "        vertical-align: middle;\n",
       "    }\n",
       "\n",
       "    .dataframe tbody tr th {\n",
       "        vertical-align: top;\n",
       "    }\n",
       "\n",
       "    .dataframe thead th {\n",
       "        text-align: right;\n",
       "    }\n",
       "</style>\n",
       "<table border=\"1\" class=\"dataframe\">\n",
       "  <thead>\n",
       "    <tr style=\"text-align: right;\">\n",
       "      <th></th>\n",
       "      <th>id</th>\n",
       "      <th>tweet</th>\n",
       "    </tr>\n",
       "  </thead>\n",
       "  <tbody>\n",
       "    <tr>\n",
       "      <th>0</th>\n",
       "      <td>1</td>\n",
       "      <td>Our daily update is published. States reported...</td>\n",
       "    </tr>\n",
       "    <tr>\n",
       "      <th>1</th>\n",
       "      <td>2</td>\n",
       "      <td>Alfalfa is the only cure for COVID-19.</td>\n",
       "    </tr>\n",
       "    <tr>\n",
       "      <th>2</th>\n",
       "      <td>3</td>\n",
       "      <td>President Trump Asked What He Would Do If He W...</td>\n",
       "    </tr>\n",
       "    <tr>\n",
       "      <th>3</th>\n",
       "      <td>4</td>\n",
       "      <td>States reported 630 deaths. We are still seein...</td>\n",
       "    </tr>\n",
       "    <tr>\n",
       "      <th>4</th>\n",
       "      <td>5</td>\n",
       "      <td>This is the sixth time a global health emergen...</td>\n",
       "    </tr>\n",
       "    <tr>\n",
       "      <th>...</th>\n",
       "      <td>...</td>\n",
       "      <td>...</td>\n",
       "    </tr>\n",
       "    <tr>\n",
       "      <th>2135</th>\n",
       "      <td>2136</td>\n",
       "      <td>#CoronaVirusUpdates: State-wise details of Tot...</td>\n",
       "    </tr>\n",
       "    <tr>\n",
       "      <th>2136</th>\n",
       "      <td>2137</td>\n",
       "      <td>Tonight 12(midnight) onwards Disaster Manageme...</td>\n",
       "    </tr>\n",
       "    <tr>\n",
       "      <th>2137</th>\n",
       "      <td>2138</td>\n",
       "      <td>296 new cases of #COVID19Nigeria; Plateau-85 E...</td>\n",
       "    </tr>\n",
       "    <tr>\n",
       "      <th>2138</th>\n",
       "      <td>2139</td>\n",
       "      <td>RT @CDCemergency: #DYK? @CDCgov’s One-Stop Sho...</td>\n",
       "    </tr>\n",
       "    <tr>\n",
       "      <th>2139</th>\n",
       "      <td>2140</td>\n",
       "      <td>More than half of pregnant women recently admi...</td>\n",
       "    </tr>\n",
       "  </tbody>\n",
       "</table>\n",
       "<p>2140 rows × 2 columns</p>\n",
       "</div>"
      ],
      "text/plain": [
       "        id                                              tweet\n",
       "0        1  Our daily update is published. States reported...\n",
       "1        2             Alfalfa is the only cure for COVID-19.\n",
       "2        3  President Trump Asked What He Would Do If He W...\n",
       "3        4  States reported 630 deaths. We are still seein...\n",
       "4        5  This is the sixth time a global health emergen...\n",
       "...    ...                                                ...\n",
       "2135  2136  #CoronaVirusUpdates: State-wise details of Tot...\n",
       "2136  2137  Tonight 12(midnight) onwards Disaster Manageme...\n",
       "2137  2138  296 new cases of #COVID19Nigeria; Plateau-85 E...\n",
       "2138  2139  RT @CDCemergency: #DYK? @CDCgov’s One-Stop Sho...\n",
       "2139  2140  More than half of pregnant women recently admi...\n",
       "\n",
       "[2140 rows x 2 columns]"
      ]
     },
     "execution_count": 12,
     "metadata": {},
     "output_type": "execute_result"
    }
   ],
   "source": [
    "fake_test"
   ]
  },
  {
   "cell_type": "code",
   "execution_count": 13,
   "metadata": {
    "execution": {
     "iopub.execute_input": "2020-12-22T05:20:39.105477Z",
     "iopub.status.busy": "2020-12-22T05:20:39.104684Z",
     "iopub.status.idle": "2020-12-22T05:20:39.107647Z",
     "shell.execute_reply": "2020-12-22T05:20:39.108193Z"
    },
    "papermill": {
     "duration": 0.045939,
     "end_time": "2020-12-22T05:20:39.108339",
     "exception": false,
     "start_time": "2020-12-22T05:20:39.062400",
     "status": "completed"
    },
    "tags": []
   },
   "outputs": [
    {
     "data": {
      "text/html": [
       "<div>\n",
       "<style scoped>\n",
       "    .dataframe tbody tr th:only-of-type {\n",
       "        vertical-align: middle;\n",
       "    }\n",
       "\n",
       "    .dataframe tbody tr th {\n",
       "        vertical-align: top;\n",
       "    }\n",
       "\n",
       "    .dataframe thead th {\n",
       "        text-align: right;\n",
       "    }\n",
       "</style>\n",
       "<table border=\"1\" class=\"dataframe\">\n",
       "  <thead>\n",
       "    <tr style=\"text-align: right;\">\n",
       "      <th></th>\n",
       "      <th>tweet</th>\n",
       "      <th>label</th>\n",
       "    </tr>\n",
       "  </thead>\n",
       "  <tbody>\n",
       "    <tr>\n",
       "      <th>0</th>\n",
       "      <td>Our daily update is published. States reported...</td>\n",
       "      <td>1</td>\n",
       "    </tr>\n",
       "    <tr>\n",
       "      <th>1</th>\n",
       "      <td>Alfalfa is the only cure for COVID-19.</td>\n",
       "      <td>0</td>\n",
       "    </tr>\n",
       "    <tr>\n",
       "      <th>2</th>\n",
       "      <td>President Trump Asked What He Would Do If He W...</td>\n",
       "      <td>0</td>\n",
       "    </tr>\n",
       "    <tr>\n",
       "      <th>3</th>\n",
       "      <td>States reported 630 deaths. We are still seein...</td>\n",
       "      <td>1</td>\n",
       "    </tr>\n",
       "    <tr>\n",
       "      <th>4</th>\n",
       "      <td>This is the sixth time a global health emergen...</td>\n",
       "      <td>1</td>\n",
       "    </tr>\n",
       "    <tr>\n",
       "      <th>...</th>\n",
       "      <td>...</td>\n",
       "      <td>...</td>\n",
       "    </tr>\n",
       "    <tr>\n",
       "      <th>1937</th>\n",
       "      <td>#CoronaVirusUpdates: State-wise details of Tot...</td>\n",
       "      <td>1</td>\n",
       "    </tr>\n",
       "    <tr>\n",
       "      <th>1938</th>\n",
       "      <td>Tonight 12(midnight) onwards Disaster Manageme...</td>\n",
       "      <td>0</td>\n",
       "    </tr>\n",
       "    <tr>\n",
       "      <th>1939</th>\n",
       "      <td>296 new cases of #COVID19Nigeria; Plateau-85 E...</td>\n",
       "      <td>1</td>\n",
       "    </tr>\n",
       "    <tr>\n",
       "      <th>1940</th>\n",
       "      <td>RT @CDCemergency: #DYK? @CDCgov’s One-Stop Sho...</td>\n",
       "      <td>1</td>\n",
       "    </tr>\n",
       "    <tr>\n",
       "      <th>1941</th>\n",
       "      <td>More than half of pregnant women recently admi...</td>\n",
       "      <td>1</td>\n",
       "    </tr>\n",
       "  </tbody>\n",
       "</table>\n",
       "<p>1942 rows × 2 columns</p>\n",
       "</div>"
      ],
      "text/plain": [
       "                                                  tweet  label\n",
       "0     Our daily update is published. States reported...      1\n",
       "1                Alfalfa is the only cure for COVID-19.      0\n",
       "2     President Trump Asked What He Would Do If He W...      0\n",
       "3     States reported 630 deaths. We are still seein...      1\n",
       "4     This is the sixth time a global health emergen...      1\n",
       "...                                                 ...    ...\n",
       "1937  #CoronaVirusUpdates: State-wise details of Tot...      1\n",
       "1938  Tonight 12(midnight) onwards Disaster Manageme...      0\n",
       "1939  296 new cases of #COVID19Nigeria; Plateau-85 E...      1\n",
       "1940  RT @CDCemergency: #DYK? @CDCgov’s One-Stop Sho...      1\n",
       "1941  More than half of pregnant women recently admi...      1\n",
       "\n",
       "[1942 rows x 2 columns]"
      ]
     },
     "execution_count": 13,
     "metadata": {},
     "output_type": "execute_result"
    }
   ],
   "source": [
    "df_pseudo_cleaned"
   ]
  },
  {
   "cell_type": "code",
   "execution_count": 14,
   "metadata": {
    "execution": {
     "iopub.execute_input": "2020-12-22T05:20:39.173996Z",
     "iopub.status.busy": "2020-12-22T05:20:39.173326Z",
     "iopub.status.idle": "2020-12-22T05:20:39.919171Z",
     "shell.execute_reply": "2020-12-22T05:20:39.919751Z"
    },
    "papermill": {
     "duration": 0.779995,
     "end_time": "2020-12-22T05:20:39.919900",
     "exception": false,
     "start_time": "2020-12-22T05:20:39.139905",
     "status": "completed"
    },
    "tags": []
   },
   "outputs": [],
   "source": [
    "fake_train1 = pd.concat([fake_train['tweet'],fake_train['label']],axis=1)\n",
    "fake_valid1 = pd.concat([fake_valid['tweet'],fake_valid['label']],axis=1)\n",
    "fake_data_process(fake_train1)\n",
    "fake_data_process(fake_valid1)\n",
    "if (use_valid):\n",
    "    fake_train1 = pd.concat([fake_train1,fake_valid1],ignore_index=True)"
   ]
  },
  {
   "cell_type": "code",
   "execution_count": 15,
   "metadata": {
    "execution": {
     "iopub.execute_input": "2020-12-22T05:20:39.985586Z",
     "iopub.status.busy": "2020-12-22T05:20:39.984933Z",
     "iopub.status.idle": "2020-12-22T05:20:39.994626Z",
     "shell.execute_reply": "2020-12-22T05:20:39.995171Z"
    },
    "papermill": {
     "duration": 0.04392,
     "end_time": "2020-12-22T05:20:39.995309",
     "exception": false,
     "start_time": "2020-12-22T05:20:39.951389",
     "status": "completed"
    },
    "tags": []
   },
   "outputs": [
    {
     "data": {
      "text/plain": [
       "1    4480\n",
       "0    4080\n",
       "Name: label, dtype: int64"
      ]
     },
     "execution_count": 15,
     "metadata": {},
     "output_type": "execute_result"
    }
   ],
   "source": [
    "fake_train1.label.value_counts()"
   ]
  },
  {
   "cell_type": "code",
   "execution_count": 16,
   "metadata": {
    "execution": {
     "iopub.execute_input": "2020-12-22T05:20:40.061380Z",
     "iopub.status.busy": "2020-12-22T05:20:40.060732Z",
     "iopub.status.idle": "2020-12-22T05:20:40.064103Z",
     "shell.execute_reply": "2020-12-22T05:20:40.064621Z"
    },
    "papermill": {
     "duration": 0.037874,
     "end_time": "2020-12-22T05:20:40.064760",
     "exception": false,
     "start_time": "2020-12-22T05:20:40.026886",
     "status": "completed"
    },
    "tags": []
   },
   "outputs": [],
   "source": [
    "# x_fake_train = regular_encode(fake_train1.tweet, tokenizer, maxlen=MAX_LEN)\n",
    "# x_fake_test = regular_encode(fake_valid1.tweet,tokenizer,maxlen=MAX_LEN)\n",
    "\n",
    "# y_fake_train = to_categorical(fake_train1.label,2,dtype='int32')\n",
    "# y_fake_test = to_categorical(fake_valid1.label,2,dtype='int32')\n",
    "# # y_fake_train = tf.convert_to_tensor(fake_train1.label.values,dtype=tf.int32)\n",
    "# # y_fake_valid = tf.convert_to_tensor(fake_valid1.label.values,dtype=tf.int32)"
   ]
  },
  {
   "cell_type": "markdown",
   "metadata": {
    "papermill": {
     "duration": 0.031024,
     "end_time": "2020-12-22T05:20:40.127254",
     "exception": false,
     "start_time": "2020-12-22T05:20:40.096230",
     "status": "completed"
    },
    "tags": []
   },
   "source": [
    "## Build datasets objects"
   ]
  },
  {
   "cell_type": "code",
   "execution_count": 17,
   "metadata": {
    "execution": {
     "iopub.execute_input": "2020-12-22T05:20:40.198988Z",
     "iopub.status.busy": "2020-12-22T05:20:40.198290Z",
     "iopub.status.idle": "2020-12-22T05:20:40.202621Z",
     "shell.execute_reply": "2020-12-22T05:20:40.202065Z"
    },
    "papermill": {
     "duration": 0.044037,
     "end_time": "2020-12-22T05:20:40.202740",
     "exception": false,
     "start_time": "2020-12-22T05:20:40.158703",
     "status": "completed"
    },
    "tags": []
   },
   "outputs": [],
   "source": [
    "def get_train_dataset(x_data,y_data):\n",
    "    dataset = tf.data.Dataset.from_tensor_slices((x_data, y_data))\n",
    "    dataset = dataset.repeat()\n",
    "    dataset = dataset.batch(BATCH_SIZE)\n",
    "    dataset = dataset.shuffle(seed)\n",
    "    dataset = dataset.cache()\n",
    "    dataset = dataset.prefetch(AUTO)\n",
    "    return dataset\n",
    "\n",
    "def get_valid_dataset(x_data,y_data):\n",
    "    dataset = tf.data.Dataset.from_tensor_slices((x_data, y_data))\n",
    "    dataset = dataset.batch(BATCH_SIZE)\n",
    "    dataset = dataset.cache()\n",
    "    dataset = dataset.prefetch(AUTO)\n",
    "    return dataset"
   ]
  },
  {
   "cell_type": "code",
   "execution_count": 18,
   "metadata": {
    "execution": {
     "iopub.execute_input": "2020-12-22T05:20:40.270814Z",
     "iopub.status.busy": "2020-12-22T05:20:40.270141Z",
     "iopub.status.idle": "2020-12-22T05:20:40.272981Z",
     "shell.execute_reply": "2020-12-22T05:20:40.273459Z"
    },
    "papermill": {
     "duration": 0.039376,
     "end_time": "2020-12-22T05:20:40.273618",
     "exception": false,
     "start_time": "2020-12-22T05:20:40.234242",
     "status": "completed"
    },
    "tags": []
   },
   "outputs": [],
   "source": [
    "# fake_train_dataset = (\n",
    "#     tf.data.Dataset\n",
    "#     .from_tensor_slices((x_fake_train, y_fake_train))\n",
    "#     .repeat()\n",
    "#     .shuffle(2048)\n",
    "#     .batch(BATCH_SIZE)\n",
    "#     .prefetch(AUTO)\n",
    "# )\n",
    "\n",
    "# fake_valid_dataset = (\n",
    "#     tf.data.Dataset\n",
    "#     .from_tensor_slices((x_fake_valid, y_fake_valid))\n",
    "#     .batch(BATCH_SIZE)\n",
    "#     .cache()\n",
    "#     .prefetch(AUTO)\n",
    "# )"
   ]
  },
  {
   "cell_type": "code",
   "execution_count": 19,
   "metadata": {
    "execution": {
     "iopub.execute_input": "2020-12-22T05:20:40.340117Z",
     "iopub.status.busy": "2020-12-22T05:20:40.339380Z",
     "iopub.status.idle": "2020-12-22T05:20:40.559205Z",
     "shell.execute_reply": "2020-12-22T05:20:40.559760Z"
    },
    "papermill": {
     "duration": 0.254846,
     "end_time": "2020-12-22T05:20:40.559906",
     "exception": false,
     "start_time": "2020-12-22T05:20:40.305060",
     "status": "completed"
    },
    "tags": []
   },
   "outputs": [
    {
     "name": "stdout",
     "output_type": "stream",
     "text": [
      "[1e-06, 9.166666666666668e-06, 1.7333333333333336e-05, 2.5500000000000003e-05, 3.366666666666667e-05, 4.183333333333334e-05, 5e-05, 2.0600000000000003e-05, 8.840000000000003e-06, 4.136000000000001e-06, 2.2544000000000004e-06, 1.5017600000000001e-06]\n",
      "Learning rate schedule: 1e-06 to 5e-05 to 1.5e-06\n"
     ]
    },
    {
     "data": {
      "image/png": "[encoded data removed]",
      "text/plain": [
       "<Figure size 432x288 with 1 Axes>"
      ]
     },
     "metadata": {
      "needs_background": "light"
     },
     "output_type": "display_data"
    }
   ],
   "source": [
    "#带warm_up的余弦衰减\n",
    "LR_START = 0.00000\n",
    "LR_MAX = 0.00005 \n",
    "LR_MIN = LR_START = 0.000001\n",
    "LR_RAMPUP_EPOCHS = 6\n",
    "LR_SUSTAIN_EPOCHS = 0\n",
    "LR_EXP_DECAY = .4\n",
    "\n",
    "def lrfn(epoch):\n",
    "    if epoch < LR_RAMPUP_EPOCHS:\n",
    "        lr = (LR_MAX - LR_START) / LR_RAMPUP_EPOCHS * epoch + LR_START\n",
    "    elif epoch < LR_RAMPUP_EPOCHS + LR_SUSTAIN_EPOCHS:\n",
    "        lr = LR_MAX\n",
    "    else:\n",
    "        lr = (LR_MAX - LR_MIN) * LR_EXP_DECAY**(epoch - LR_RAMPUP_EPOCHS - LR_SUSTAIN_EPOCHS) + LR_MIN\n",
    "    return lr\n",
    "\n",
    "\n",
    "rng = [i for i in range(EPOCHS)]\n",
    "y_s = [lrfn(x) for x in rng]\n",
    "print(y_s)\n",
    "plt.plot(rng, y_s)\n",
    "print(\"Learning rate schedule: {:.3g} to {:.3g} to {:.3g}\".format(y_s[0], max(y_s), y_s[-1]))\n",
    "lr_warm_up = tf.keras.callbacks.LearningRateScheduler(lrfn, verbose=1)"
   ]
  },
  {
   "cell_type": "markdown",
   "metadata": {
    "papermill": {
     "duration": 0.032847,
     "end_time": "2020-12-22T05:20:40.626941",
     "exception": false,
     "start_time": "2020-12-22T05:20:40.594094",
     "status": "completed"
    },
    "tags": []
   },
   "source": [
    "## Load model into the TPU"
   ]
  },
  {
   "cell_type": "markdown",
   "metadata": {
    "papermill": {
     "duration": 0.033893,
     "end_time": "2020-12-22T05:20:40.695586",
     "exception": false,
     "start_time": "2020-12-22T05:20:40.661693",
     "status": "completed"
    },
    "tags": []
   },
   "source": [
    "## Train Model"
   ]
  },
  {
   "cell_type": "markdown",
   "metadata": {
    "papermill": {
     "duration": 0.03311,
     "end_time": "2020-12-22T05:20:40.762420",
     "exception": false,
     "start_time": "2020-12-22T05:20:40.729310",
     "status": "completed"
    },
    "tags": []
   },
   "source": [
    "First, we train on the subset of the training set, which is completely in English."
   ]
  },
  {
   "cell_type": "code",
   "execution_count": 20,
   "metadata": {
    "execution": {
     "iopub.execute_input": "2020-12-22T05:20:40.833850Z",
     "iopub.status.busy": "2020-12-22T05:20:40.833131Z",
     "iopub.status.idle": "2020-12-22T06:13:23.654680Z",
     "shell.execute_reply": "2020-12-22T06:13:23.653207Z"
    },
    "papermill": {
     "duration": 3162.85888,
     "end_time": "2020-12-22T06:13:23.654979",
     "exception": false,
     "start_time": "2020-12-22T05:20:40.796099",
     "status": "completed"
    },
    "tags": []
   },
   "outputs": [
    {
     "name": "stdout",
     "output_type": "stream",
     "text": [
      "#### FOLD 1\n",
      "use pseudo\n"
     ]
    },
    {
     "data": {
      "application/vnd.jupyter.widget-view+json": {
       "model_id": "12c8dbd2635243999d27d9d7abeccd14",
       "version_major": 2,
       "version_minor": 0
      },
      "text/plain": [
       "HBox(children=(FloatProgress(value=0.0, description='Downloading', max=421.0, style=ProgressStyle(description_…"
      ]
     },
     "metadata": {},
     "output_type": "display_data"
    },
    {
     "name": "stdout",
     "output_type": "stream",
     "text": [
      "\n"
     ]
    },
    {
     "data": {
      "application/vnd.jupyter.widget-view+json": {
       "model_id": "9f802ec2d36e45139b67e3e9c21e693c",
       "version_major": 2,
       "version_minor": 0
      },
      "text/plain": [
       "HBox(children=(FloatProgress(value=0.0, description='Downloading', max=231508.0, style=ProgressStyle(descripti…"
      ]
     },
     "metadata": {},
     "output_type": "display_data"
    },
    {
     "name": "stdout",
     "output_type": "stream",
     "text": [
      "\n"
     ]
    },
    {
     "data": {
      "application/vnd.jupyter.widget-view+json": {
       "model_id": "14bbd48efae64adebb56e50c29293fd8",
       "version_major": 2,
       "version_minor": 0
      },
      "text/plain": [
       "HBox(children=(FloatProgress(value=0.0, description='Downloading', max=1472566816.0, style=ProgressStyle(descr…"
      ]
     },
     "metadata": {},
     "output_type": "display_data"
    },
    {
     "name": "stdout",
     "output_type": "stream",
     "text": [
      "\n",
      "\n",
      "Epoch 00001: LearningRateScheduler reducing learning rate to 1e-06.\n",
      "Epoch 1/12\n",
      "34/34 [==============================] - 89s 3s/step - accuracy: 0.6973 - loss: 0.5743 - f1_score: 0.6963 - val_accuracy: 0.7453 - val_loss: 0.5344 - val_f1_score: 0.7415 - lr: 1.0000e-06\n",
      "\n",
      "Epoch 00002: LearningRateScheduler reducing learning rate to 9.166666666666668e-06.\n",
      "Epoch 2/12\n",
      "34/34 [==============================] - 26s 775ms/step - accuracy: 0.8342 - loss: 0.3637 - f1_score: 0.8338 - val_accuracy: 0.8861 - val_loss: 0.3453 - val_f1_score: 0.8847 - lr: 9.1667e-06\n",
      "\n",
      "Epoch 00003: LearningRateScheduler reducing learning rate to 1.7333333333333336e-05.\n",
      "Epoch 3/12\n",
      "34/34 [==============================] - 26s 772ms/step - accuracy: 0.9588 - loss: 0.1358 - f1_score: 0.9587 - val_accuracy: 0.9679 - val_loss: 0.1197 - val_f1_score: 0.9679 - lr: 1.7333e-05\n",
      "\n",
      "Epoch 00004: LearningRateScheduler reducing learning rate to 2.5500000000000003e-05.\n",
      "Epoch 4/12\n",
      "34/34 [==============================] - 20s 591ms/step - accuracy: 0.9833 - loss: 0.0764 - f1_score: 0.9833 - val_accuracy: 0.9650 - val_loss: 0.1312 - val_f1_score: 0.9649 - lr: 2.5500e-05\n",
      "\n",
      "Epoch 00005: LearningRateScheduler reducing learning rate to 3.366666666666667e-05.\n",
      "Epoch 5/12\n",
      "34/34 [==============================] - ETA: 0s - accuracy: 0.9881 - loss: 0.0605 - f1_score: 0.9881\n",
      "Epoch 00005: ReduceLROnPlateau reducing learning rate to 3.3666667150100695e-06.\n",
      "34/34 [==============================] - 20s 590ms/step - accuracy: 0.9881 - loss: 0.0605 - f1_score: 0.9881 - val_accuracy: 0.9574 - val_loss: 0.1854 - val_f1_score: 0.9573 - lr: 3.3667e-06\n",
      "\n",
      "Epoch 00006: LearningRateScheduler reducing learning rate to 4.183333333333334e-05.\n",
      "Epoch 6/12\n",
      "34/34 [==============================] - 27s 799ms/step - accuracy: 0.9944 - loss: 0.0499 - f1_score: 0.9944 - val_accuracy: 0.9702 - val_loss: 0.1207 - val_f1_score: 0.9702 - lr: 4.1833e-05\n",
      "\n",
      "Epoch 00007: LearningRateScheduler reducing learning rate to 5e-05.\n",
      "Epoch 7/12\n",
      "34/34 [==============================] - 27s 790ms/step - accuracy: 0.9964 - loss: 0.0427 - f1_score: 0.9964 - val_accuracy: 0.9743 - val_loss: 0.1279 - val_f1_score: 0.9743 - lr: 5.0000e-05\n",
      "\n",
      "Epoch 00008: LearningRateScheduler reducing learning rate to 2.0600000000000003e-05.\n",
      "Epoch 8/12\n",
      "34/34 [==============================] - 27s 808ms/step - accuracy: 0.9984 - loss: 0.0367 - f1_score: 0.9984 - val_accuracy: 0.9801 - val_loss: 0.1095 - val_f1_score: 0.9801 - lr: 2.0600e-05\n",
      "\n",
      "Epoch 00009: LearningRateScheduler reducing learning rate to 8.840000000000003e-06.\n",
      "Epoch 9/12\n",
      "34/34 [==============================] - 20s 585ms/step - accuracy: 1.0000 - loss: 0.0324 - f1_score: 1.0000 - val_accuracy: 0.9801 - val_loss: 0.1145 - val_f1_score: 0.9801 - lr: 8.8400e-06\n",
      "\n",
      "Epoch 00010: LearningRateScheduler reducing learning rate to 4.136000000000001e-06.\n",
      "Epoch 10/12\n",
      "34/34 [==============================] - ETA: 0s - accuracy: 0.9999 - loss: 0.0327 - f1_score: 0.9999\n",
      "Epoch 00010: ReduceLROnPlateau reducing learning rate to 4.135999915888533e-07.\n",
      "34/34 [==============================] - 20s 588ms/step - accuracy: 0.9999 - loss: 0.0327 - f1_score: 0.9999 - val_accuracy: 0.9784 - val_loss: 0.1200 - val_f1_score: 0.9784 - lr: 4.1360e-07\n",
      "\n",
      "Epoch 00011: LearningRateScheduler reducing learning rate to 2.2544000000000004e-06.\n",
      "Epoch 11/12\n",
      "34/34 [==============================] - 20s 588ms/step - accuracy: 0.9999 - loss: 0.0324 - f1_score: 0.9999 - val_accuracy: 0.9784 - val_loss: 0.1181 - val_f1_score: 0.9784 - lr: 2.2544e-06\n",
      "\n",
      "Epoch 00012: LearningRateScheduler reducing learning rate to 1.5017600000000001e-06.\n",
      "Epoch 12/12\n",
      "34/34 [==============================] - ETA: 0s - accuracy: 0.9997 - loss: 0.0334 - f1_score: 0.9997\n",
      "Epoch 00012: ReduceLROnPlateau reducing learning rate to 1.5017600389910514e-07.\n",
      "34/34 [==============================] - 20s 589ms/step - accuracy: 0.9997 - loss: 0.0334 - f1_score: 0.9997 - val_accuracy: 0.9778 - val_loss: 0.1168 - val_f1_score: 0.9778 - lr: 1.5018e-07\n",
      "Loading best model...\n",
      "7/7 [==============================] - 1s 140ms/step - accuracy: 0.9801 - loss: 0.1095 - f1_score: 0.9801\n"
     ]
    },
    {
     "data": {
      "image/png": "[encoded data removed]",
      "text/plain": [
       "<Figure size 1080x360 with 2 Axes>"
      ]
     },
     "metadata": {
      "needs_background": "light"
     },
     "output_type": "display_data"
    },
    {
     "name": "stdout",
     "output_type": "stream",
     "text": [
      "#### FOLD 2\n",
      "use pseudo\n",
      "\n",
      "Epoch 00001: LearningRateScheduler reducing learning rate to 1e-06.\n",
      "Epoch 1/12\n",
      "34/34 [==============================] - 57s 2s/step - accuracy: 0.7043 - loss: 0.5761 - f1_score: 0.7039 - val_accuracy: 0.7634 - val_loss: 0.5450 - val_f1_score: 0.7621 - lr: 1.0000e-06\n",
      "\n",
      "Epoch 00002: LearningRateScheduler reducing learning rate to 9.166666666666668e-06.\n",
      "Epoch 2/12\n",
      "34/34 [==============================] - 26s 770ms/step - accuracy: 0.8454 - loss: 0.3557 - f1_score: 0.8448 - val_accuracy: 0.9147 - val_loss: 0.2287 - val_f1_score: 0.9146 - lr: 9.1667e-06\n",
      "\n",
      "Epoch 00003: LearningRateScheduler reducing learning rate to 1.7333333333333336e-05.\n",
      "Epoch 3/12\n",
      "34/34 [==============================] - 27s 806ms/step - accuracy: 0.9521 - loss: 0.1447 - f1_score: 0.9521 - val_accuracy: 0.9620 - val_loss: 0.1322 - val_f1_score: 0.9620 - lr: 1.7333e-05\n",
      "\n",
      "Epoch 00004: LearningRateScheduler reducing learning rate to 2.5500000000000003e-05.\n",
      "Epoch 4/12\n",
      "34/34 [==============================] - 27s 781ms/step - accuracy: 0.9813 - loss: 0.0794 - f1_score: 0.9813 - val_accuracy: 0.9626 - val_loss: 0.1428 - val_f1_score: 0.9626 - lr: 2.5500e-05\n",
      "\n",
      "Epoch 00005: LearningRateScheduler reducing learning rate to 3.366666666666667e-05.\n",
      "Epoch 5/12\n",
      "34/34 [==============================] - 27s 800ms/step - accuracy: 0.9838 - loss: 0.0733 - f1_score: 0.9838 - val_accuracy: 0.9696 - val_loss: 0.1287 - val_f1_score: 0.9696 - lr: 3.3667e-05\n",
      "\n",
      "Epoch 00006: LearningRateScheduler reducing learning rate to 4.183333333333334e-05.\n",
      "Epoch 6/12\n",
      "34/34 [==============================] - 26s 772ms/step - accuracy: 0.9928 - loss: 0.0551 - f1_score: 0.9928 - val_accuracy: 0.9731 - val_loss: 0.1122 - val_f1_score: 0.9731 - lr: 4.1833e-05\n",
      "\n",
      "Epoch 00007: LearningRateScheduler reducing learning rate to 5e-05.\n",
      "Epoch 7/12\n",
      "34/34 [==============================] - 20s 589ms/step - accuracy: 0.9940 - loss: 0.0482 - f1_score: 0.9940 - val_accuracy: 0.9725 - val_loss: 0.1261 - val_f1_score: 0.9725 - lr: 5.0000e-05\n",
      "\n",
      "Epoch 00008: LearningRateScheduler reducing learning rate to 2.0600000000000003e-05.\n",
      "Epoch 8/12\n",
      "34/34 [==============================] - 27s 799ms/step - accuracy: 0.9962 - loss: 0.0448 - f1_score: 0.9962 - val_accuracy: 0.9790 - val_loss: 0.1085 - val_f1_score: 0.9790 - lr: 2.0600e-05\n",
      "\n",
      "Epoch 00009: LearningRateScheduler reducing learning rate to 8.840000000000003e-06.\n",
      "Epoch 9/12\n",
      "34/34 [==============================] - 20s 588ms/step - accuracy: 0.9990 - loss: 0.0360 - f1_score: 0.9990 - val_accuracy: 0.9784 - val_loss: 0.1088 - val_f1_score: 0.9784 - lr: 8.8400e-06\n",
      "\n",
      "Epoch 00010: LearningRateScheduler reducing learning rate to 4.136000000000001e-06.\n",
      "Epoch 10/12\n",
      "34/34 [==============================] - ETA: 0s - accuracy: 0.9994 - loss: 0.0346 - f1_score: 0.9994\n",
      "Epoch 00010: ReduceLROnPlateau reducing learning rate to 4.135999915888533e-07.\n",
      "34/34 [==============================] - 20s 588ms/step - accuracy: 0.9994 - loss: 0.0346 - f1_score: 0.9994 - val_accuracy: 0.9766 - val_loss: 0.1129 - val_f1_score: 0.9766 - lr: 4.1360e-07\n",
      "\n",
      "Epoch 00011: LearningRateScheduler reducing learning rate to 2.2544000000000004e-06.\n",
      "Epoch 11/12\n",
      "34/34 [==============================] - 20s 589ms/step - accuracy: 0.9995 - loss: 0.0336 - f1_score: 0.9995 - val_accuracy: 0.9778 - val_loss: 0.1119 - val_f1_score: 0.9778 - lr: 2.2544e-06\n",
      "\n",
      "Epoch 00012: LearningRateScheduler reducing learning rate to 1.5017600000000001e-06.\n",
      "Epoch 12/12\n",
      "34/34 [==============================] - ETA: 0s - accuracy: 0.9995 - loss: 0.0344 - f1_score: 0.9995\n",
      "Epoch 00012: ReduceLROnPlateau reducing learning rate to 1.5017600389910514e-07.\n",
      "34/34 [==============================] - 20s 588ms/step - accuracy: 0.9995 - loss: 0.0344 - f1_score: 0.9995 - val_accuracy: 0.9766 - val_loss: 0.1109 - val_f1_score: 0.9766 - lr: 1.5018e-07\n",
      "Loading best model...\n",
      "7/7 [==============================] - 1s 140ms/step - accuracy: 0.9790 - loss: 0.1085 - f1_score: 0.9790\n"
     ]
    },
    {
     "data": {
      "image/png": "[encoded data removed]",
      "text/plain": [
       "<Figure size 1080x360 with 2 Axes>"
      ]
     },
     "metadata": {
      "needs_background": "light"
     },
     "output_type": "display_data"
    },
    {
     "name": "stdout",
     "output_type": "stream",
     "text": [
      "#### FOLD 3\n",
      "use pseudo\n",
      "\n",
      "Epoch 00001: LearningRateScheduler reducing learning rate to 1e-06.\n",
      "Epoch 1/12\n",
      "34/34 [==============================] - 58s 2s/step - accuracy: 0.7174 - loss: 0.5498 - f1_score: 0.7138 - val_accuracy: 0.7447 - val_loss: 0.6001 - val_f1_score: 0.7443 - lr: 1.0000e-06\n",
      "\n",
      "Epoch 00002: LearningRateScheduler reducing learning rate to 9.166666666666668e-06.\n",
      "Epoch 2/12\n",
      "34/34 [==============================] - 30s 875ms/step - accuracy: 0.8722 - loss: 0.3000 - f1_score: 0.8721 - val_accuracy: 0.9626 - val_loss: 0.1321 - val_f1_score: 0.9626 - lr: 9.1667e-06\n",
      "\n",
      "Epoch 00003: LearningRateScheduler reducing learning rate to 1.7333333333333336e-05.\n",
      "Epoch 3/12\n",
      "34/34 [==============================] - 28s 817ms/step - accuracy: 0.9728 - loss: 0.0991 - f1_score: 0.9728 - val_accuracy: 0.9772 - val_loss: 0.1044 - val_f1_score: 0.9772 - lr: 1.7333e-05\n",
      "\n",
      "Epoch 00004: LearningRateScheduler reducing learning rate to 2.5500000000000003e-05.\n",
      "Epoch 4/12\n",
      "34/34 [==============================] - 30s 879ms/step - accuracy: 0.9892 - loss: 0.0659 - f1_score: 0.9892 - val_accuracy: 0.9848 - val_loss: 0.0793 - val_f1_score: 0.9848 - lr: 2.5500e-05\n",
      "\n",
      "Epoch 00005: LearningRateScheduler reducing learning rate to 3.366666666666667e-05.\n",
      "Epoch 5/12\n",
      "34/34 [==============================] - 28s 822ms/step - accuracy: 0.9932 - loss: 0.0533 - f1_score: 0.9932 - val_accuracy: 0.9860 - val_loss: 0.0792 - val_f1_score: 0.9860 - lr: 3.3667e-05\n",
      "\n",
      "Epoch 00006: LearningRateScheduler reducing learning rate to 4.183333333333334e-05.\n",
      "Epoch 6/12\n",
      "34/34 [==============================] - 20s 594ms/step - accuracy: 0.9966 - loss: 0.0466 - f1_score: 0.9966 - val_accuracy: 0.9790 - val_loss: 0.0920 - val_f1_score: 0.9790 - lr: 4.1833e-05\n",
      "\n",
      "Epoch 00007: LearningRateScheduler reducing learning rate to 5e-05.\n",
      "Epoch 7/12\n",
      "34/34 [==============================] - 29s 838ms/step - accuracy: 0.9980 - loss: 0.0402 - f1_score: 0.9980 - val_accuracy: 0.9866 - val_loss: 0.0709 - val_f1_score: 0.9866 - lr: 5.0000e-05\n",
      "\n",
      "Epoch 00008: LearningRateScheduler reducing learning rate to 2.0600000000000003e-05.\n",
      "Epoch 8/12\n",
      "34/34 [==============================] - 20s 589ms/step - accuracy: 0.9997 - loss: 0.0365 - f1_score: 0.9997 - val_accuracy: 0.9854 - val_loss: 0.0739 - val_f1_score: 0.9854 - lr: 2.0600e-05\n",
      "\n",
      "Epoch 00009: LearningRateScheduler reducing learning rate to 8.840000000000003e-06.\n",
      "Epoch 9/12\n",
      "34/34 [==============================] - ETA: 0s - accuracy: 0.9999 - loss: 0.0348 - f1_score: 0.9999\n",
      "Epoch 00009: ReduceLROnPlateau reducing learning rate to 8.840000191412401e-07.\n",
      "34/34 [==============================] - 20s 589ms/step - accuracy: 0.9999 - loss: 0.0348 - f1_score: 0.9999 - val_accuracy: 0.9854 - val_loss: 0.0725 - val_f1_score: 0.9854 - lr: 8.8400e-07\n",
      "\n",
      "Epoch 00010: LearningRateScheduler reducing learning rate to 4.136000000000001e-06.\n",
      "Epoch 10/12\n",
      "34/34 [==============================] - 20s 592ms/step - accuracy: 1.0000 - loss: 0.0344 - f1_score: 1.0000 - val_accuracy: 0.9848 - val_loss: 0.0732 - val_f1_score: 0.9848 - lr: 4.1360e-06\n",
      "\n",
      "Epoch 00011: LearningRateScheduler reducing learning rate to 2.2544000000000004e-06.\n",
      "Epoch 11/12\n",
      "34/34 [==============================] - ETA: 0s - accuracy: 1.0000 - loss: 0.0344 - f1_score: 1.0000\n",
      "Epoch 00011: ReduceLROnPlateau reducing learning rate to 2.2543999875779266e-07.\n",
      "34/34 [==============================] - 20s 590ms/step - accuracy: 1.0000 - loss: 0.0344 - f1_score: 1.0000 - val_accuracy: 0.9854 - val_loss: 0.0723 - val_f1_score: 0.9854 - lr: 2.2544e-07\n",
      "\n",
      "Epoch 00012: LearningRateScheduler reducing learning rate to 1.5017600000000001e-06.\n",
      "Epoch 12/12\n",
      "34/34 [==============================] - 20s 589ms/step - accuracy: 1.0000 - loss: 0.0345 - f1_score: 1.0000 - val_accuracy: 0.9854 - val_loss: 0.0723 - val_f1_score: 0.9854 - lr: 1.5018e-06\n",
      "Loading best model...\n",
      "7/7 [==============================] - 1s 141ms/step - accuracy: 0.9866 - loss: 0.0709 - f1_score: 0.9866\n"
     ]
    },
    {
     "data": {
      "image/png": "[encoded data removed]",
      "text/plain": [
       "<Figure size 1080x360 with 2 Axes>"
      ]
     },
     "metadata": {
      "needs_background": "light"
     },
     "output_type": "display_data"
    },
    {
     "name": "stdout",
     "output_type": "stream",
     "text": [
      "#### FOLD 4\n",
      "use pseudo\n",
      "\n",
      "Epoch 00001: LearningRateScheduler reducing learning rate to 1e-06.\n",
      "Epoch 1/12\n",
      "34/34 [==============================] - 61s 2s/step - accuracy: 0.6742 - loss: 0.6134 - f1_score: 0.6740 - val_accuracy: 0.7091 - val_loss: 0.5917 - val_f1_score: 0.7087 - lr: 1.0000e-06\n",
      "\n",
      "Epoch 00002: LearningRateScheduler reducing learning rate to 9.166666666666668e-06.\n",
      "Epoch 2/12\n",
      "34/34 [==============================] - 26s 770ms/step - accuracy: 0.8184 - loss: 0.4048 - f1_score: 0.8179 - val_accuracy: 0.8879 - val_loss: 0.2870 - val_f1_score: 0.8861 - lr: 9.1667e-06\n",
      "\n",
      "Epoch 00003: LearningRateScheduler reducing learning rate to 1.7333333333333336e-05.\n",
      "Epoch 3/12\n",
      "34/34 [==============================] - 26s 764ms/step - accuracy: 0.9519 - loss: 0.1528 - f1_score: 0.9519 - val_accuracy: 0.9650 - val_loss: 0.1233 - val_f1_score: 0.9649 - lr: 1.7333e-05\n",
      "\n",
      "Epoch 00004: LearningRateScheduler reducing learning rate to 2.5500000000000003e-05.\n",
      "Epoch 4/12\n",
      "34/34 [==============================] - 27s 807ms/step - accuracy: 0.9790 - loss: 0.0822 - f1_score: 0.9790 - val_accuracy: 0.9796 - val_loss: 0.0836 - val_f1_score: 0.9795 - lr: 2.5500e-05\n",
      "\n",
      "Epoch 00005: LearningRateScheduler reducing learning rate to 3.366666666666667e-05.\n",
      "Epoch 5/12\n",
      "34/34 [==============================] - 20s 593ms/step - accuracy: 0.9879 - loss: 0.0652 - f1_score: 0.9879 - val_accuracy: 0.9667 - val_loss: 0.1244 - val_f1_score: 0.9667 - lr: 3.3667e-05\n",
      "\n",
      "Epoch 00006: LearningRateScheduler reducing learning rate to 4.183333333333334e-05.\n",
      "Epoch 6/12\n",
      "34/34 [==============================] - ETA: 0s - accuracy: 0.9923 - loss: 0.0556 - f1_score: 0.9923\n",
      "Epoch 00006: ReduceLROnPlateau reducing learning rate to 4.183333294349723e-06.\n",
      "34/34 [==============================] - 20s 589ms/step - accuracy: 0.9923 - loss: 0.0556 - f1_score: 0.9923 - val_accuracy: 0.9743 - val_loss: 0.1057 - val_f1_score: 0.9743 - lr: 4.1833e-06\n",
      "\n",
      "Epoch 00007: LearningRateScheduler reducing learning rate to 5e-05.\n",
      "Epoch 7/12\n",
      "34/34 [==============================] - 27s 801ms/step - accuracy: 0.9821 - loss: 0.0854 - f1_score: 0.9821 - val_accuracy: 0.9813 - val_loss: 0.0914 - val_f1_score: 0.9813 - lr: 5.0000e-05\n",
      "\n",
      "Epoch 00008: LearningRateScheduler reducing learning rate to 2.0600000000000003e-05.\n",
      "Epoch 8/12\n",
      "34/34 [==============================] - 20s 589ms/step - accuracy: 0.9970 - loss: 0.0404 - f1_score: 0.9970 - val_accuracy: 0.9807 - val_loss: 0.0836 - val_f1_score: 0.9807 - lr: 2.0600e-05\n",
      "\n",
      "Epoch 00009: LearningRateScheduler reducing learning rate to 8.840000000000003e-06.\n",
      "Epoch 9/12\n",
      "34/34 [==============================] - ETA: 0s - accuracy: 0.9987 - loss: 0.0366 - f1_score: 0.9987\n",
      "Epoch 00009: ReduceLROnPlateau reducing learning rate to 8.840000191412401e-07.\n",
      "34/34 [==============================] - 20s 588ms/step - accuracy: 0.9987 - loss: 0.0366 - f1_score: 0.9987 - val_accuracy: 0.9790 - val_loss: 0.0896 - val_f1_score: 0.9790 - lr: 8.8400e-07\n",
      "\n",
      "Epoch 00010: LearningRateScheduler reducing learning rate to 4.136000000000001e-06.\n",
      "Epoch 10/12\n",
      "34/34 [==============================] - 27s 808ms/step - accuracy: 0.9993 - loss: 0.0347 - f1_score: 0.9993 - val_accuracy: 0.9831 - val_loss: 0.0802 - val_f1_score: 0.9831 - lr: 4.1360e-06\n",
      "\n",
      "Epoch 00011: LearningRateScheduler reducing learning rate to 2.2544000000000004e-06.\n",
      "Epoch 11/12\n",
      "34/34 [==============================] - 27s 805ms/step - accuracy: 0.9994 - loss: 0.0344 - f1_score: 0.9994 - val_accuracy: 0.9836 - val_loss: 0.0821 - val_f1_score: 0.9836 - lr: 2.2544e-06\n",
      "\n",
      "Epoch 00012: LearningRateScheduler reducing learning rate to 1.5017600000000001e-06.\n",
      "Epoch 12/12\n",
      "34/34 [==============================] - 27s 801ms/step - accuracy: 0.9997 - loss: 0.0337 - f1_score: 0.9997 - val_accuracy: 0.9836 - val_loss: 0.0810 - val_f1_score: 0.9836 - lr: 1.5018e-06\n",
      "Loading best model...\n",
      "7/7 [==============================] - 1s 141ms/step - accuracy: 0.9836 - loss: 0.0810 - f1_score: 0.9836\n"
     ]
    },
    {
     "data": {
      "image/png": "[encoded data removed]",
      "text/plain": [
       "<Figure size 1080x360 with 2 Axes>"
      ]
     },
     "metadata": {
      "needs_background": "light"
     },
     "output_type": "display_data"
    },
    {
     "name": "stdout",
     "output_type": "stream",
     "text": [
      "#### FOLD 5\n",
      "use pseudo\n",
      "\n",
      "Epoch 00001: LearningRateScheduler reducing learning rate to 1e-06.\n",
      "Epoch 1/12\n",
      "34/34 [==============================] - 59s 2s/step - accuracy: 0.6807 - loss: 0.6211 - f1_score: 0.6806 - val_accuracy: 0.7085 - val_loss: 0.5326 - val_f1_score: 0.7084 - lr: 1.0000e-06\n",
      "\n",
      "Epoch 00002: LearningRateScheduler reducing learning rate to 9.166666666666668e-06.\n",
      "Epoch 2/12\n",
      "34/34 [==============================] - 29s 853ms/step - accuracy: 0.8428 - loss: 0.3535 - f1_score: 0.8425 - val_accuracy: 0.9130 - val_loss: 0.2250 - val_f1_score: 0.9123 - lr: 9.1667e-06\n",
      "\n",
      "Epoch 00003: LearningRateScheduler reducing learning rate to 1.7333333333333336e-05.\n",
      "Epoch 3/12\n",
      "34/34 [==============================] - 27s 806ms/step - accuracy: 0.9492 - loss: 0.1556 - f1_score: 0.9492 - val_accuracy: 0.9650 - val_loss: 0.1112 - val_f1_score: 0.9650 - lr: 1.7333e-05\n",
      "\n",
      "Epoch 00004: LearningRateScheduler reducing learning rate to 2.5500000000000003e-05.\n",
      "Epoch 4/12\n",
      "34/34 [==============================] - 29s 846ms/step - accuracy: 0.9829 - loss: 0.0763 - f1_score: 0.9829 - val_accuracy: 0.9772 - val_loss: 0.0927 - val_f1_score: 0.9772 - lr: 2.5500e-05\n",
      "\n",
      "Epoch 00005: LearningRateScheduler reducing learning rate to 3.366666666666667e-05.\n",
      "Epoch 5/12\n",
      "34/34 [==============================] - 20s 589ms/step - accuracy: 0.9898 - loss: 0.0629 - f1_score: 0.9898 - val_accuracy: 0.9463 - val_loss: 0.1615 - val_f1_score: 0.9460 - lr: 3.3667e-05\n",
      "\n",
      "Epoch 00006: LearningRateScheduler reducing learning rate to 4.183333333333334e-05.\n",
      "Epoch 6/12\n",
      "34/34 [==============================] - ETA: 0s - accuracy: 0.9909 - loss: 0.0615 - f1_score: 0.9909\n",
      "Epoch 00006: ReduceLROnPlateau reducing learning rate to 4.183333294349723e-06.\n",
      "34/34 [==============================] - 20s 593ms/step - accuracy: 0.9909 - loss: 0.0615 - f1_score: 0.9909 - val_accuracy: 0.9673 - val_loss: 0.1282 - val_f1_score: 0.9672 - lr: 4.1833e-06\n",
      "\n",
      "Epoch 00007: LearningRateScheduler reducing learning rate to 5e-05.\n",
      "Epoch 7/12\n",
      "34/34 [==============================] - 28s 823ms/step - accuracy: 0.9979 - loss: 0.0398 - f1_score: 0.9979 - val_accuracy: 0.9819 - val_loss: 0.0915 - val_f1_score: 0.9819 - lr: 5.0000e-05\n",
      "\n",
      "Epoch 00008: LearningRateScheduler reducing learning rate to 2.0600000000000003e-05.\n",
      "Epoch 8/12\n",
      "34/34 [==============================] - 29s 844ms/step - accuracy: 0.9992 - loss: 0.0360 - f1_score: 0.9992 - val_accuracy: 0.9825 - val_loss: 0.0850 - val_f1_score: 0.9825 - lr: 2.0600e-05\n",
      "\n",
      "Epoch 00009: LearningRateScheduler reducing learning rate to 8.840000000000003e-06.\n",
      "Epoch 9/12\n",
      "34/34 [==============================] - 20s 592ms/step - accuracy: 1.0000 - loss: 0.0336 - f1_score: 1.0000 - val_accuracy: 0.9807 - val_loss: 0.0908 - val_f1_score: 0.9807 - lr: 8.8400e-06\n",
      "\n",
      "Epoch 00010: LearningRateScheduler reducing learning rate to 4.136000000000001e-06.\n",
      "Epoch 10/12\n",
      "34/34 [==============================] - ETA: 0s - accuracy: 0.9995 - loss: 0.0349 - f1_score: 0.9995\n",
      "Epoch 00010: ReduceLROnPlateau reducing learning rate to 4.135999915888533e-07.\n",
      "34/34 [==============================] - 20s 590ms/step - accuracy: 0.9995 - loss: 0.0349 - f1_score: 0.9995 - val_accuracy: 0.9819 - val_loss: 0.0857 - val_f1_score: 0.9819 - lr: 4.1360e-07\n",
      "\n",
      "Epoch 00011: LearningRateScheduler reducing learning rate to 2.2544000000000004e-06.\n",
      "Epoch 11/12\n",
      "34/34 [==============================] - 20s 593ms/step - accuracy: 0.9999 - loss: 0.0336 - f1_score: 0.9999 - val_accuracy: 0.9825 - val_loss: 0.0863 - val_f1_score: 0.9825 - lr: 2.2544e-06\n",
      "\n",
      "Epoch 00012: LearningRateScheduler reducing learning rate to 1.5017600000000001e-06.\n",
      "Epoch 12/12\n",
      "34/34 [==============================] - ETA: 0s - accuracy: 0.9999 - loss: 0.0333 - f1_score: 0.9999\n",
      "Epoch 00012: ReduceLROnPlateau reducing learning rate to 1.5017600389910514e-07.\n",
      "34/34 [==============================] - 20s 592ms/step - accuracy: 0.9999 - loss: 0.0333 - f1_score: 0.9999 - val_accuracy: 0.9819 - val_loss: 0.0866 - val_f1_score: 0.9819 - lr: 1.5018e-07\n",
      "Loading best model...\n",
      "7/7 [==============================] - 1s 142ms/step - accuracy: 0.9825 - loss: 0.0850 - f1_score: 0.9825\n"
     ]
    },
    {
     "data": {
      "image/png": "[encoded data removed]",
      "text/plain": [
       "<Figure size 1080x360 with 2 Axes>"
      ]
     },
     "metadata": {
      "needs_background": "light"
     },
     "output_type": "display_data"
    }
   ],
   "source": [
    "preds = []\n",
    "weights = []\n",
    "models = [\"digitalepidemiologylab/covid-twitter-bert\",\"distilroberta-base\",\"nghuyong/ernie-2.0-en\",\"lordtt13/COVID-SciBERT\",\"digitalepidemiologylab/covid-twitter-bert-v2\"]\n",
    "for fold,(train,valid) in enumerate(kfold.split(fake_train1.tweet,fake_train1.label)):\n",
    "    print('#### FOLD',fold+1)\n",
    "    x_train,x_valid,y_train,y_valid = fake_train1.tweet[train],fake_train1.tweet[valid]\\\n",
    "    ,fake_train1.label[train],fake_train1.label[valid]\n",
    "    if (use_pseudo):\n",
    "        print(\"use pseudo\")\n",
    "        x_train = pd.concat([x_train, df_pseudo_cleaned.tweet]).reset_index(drop=True)\n",
    "        y_train = pd.concat([y_train, df_pseudo_cleaned.label]).reset_index(drop=True)\n",
    "    if (use_external2):\n",
    "        x_train = pd.concat([x_train, fake_external2.tweet]).reset_index(drop=True)\n",
    "        y_train = pd.concat([y_train, fake_external2.label]).reset_index(drop=True)\n",
    "    \n",
    "    tokenizer = AutoTokenizer.from_pretrained(models[0])\n",
    "    \n",
    "    x_fake_train = regular_encode(x_train,tokenizer, maxlen=MAX_LEN)\n",
    "    x_fake_valid = regular_encode(x_valid,tokenizer,maxlen=MAX_LEN)\n",
    "\n",
    "    y_fake_train = to_categorical(y_train,2,dtype='int32')\n",
    "    y_fake_valid = to_categorical(y_valid,2,dtype='int32')\n",
    "    \n",
    "    train_dataset = get_train_dataset(x_fake_train,y_fake_train )\n",
    "    valid_dataset = get_valid_dataset(x_fake_valid,y_fake_valid)\n",
    "    \n",
    "    n_steps = x_fake_train.shape[0] // BATCH_SIZE\n",
    "\n",
    "    # BUILD MODEL\n",
    "    K.clear_session()\n",
    "    tf.tpu.experimental.initialize_tpu_system(tpu)\n",
    "    with strategy.scope():\n",
    "        transformer_layer = TFAutoModel.from_pretrained(models[0])\n",
    "        model = build_model(transformer_layer, max_len=MAX_LEN)\n",
    "        \n",
    "    sv = tf.keras.callbacks.ModelCheckpoint(\n",
    "        'fold-%i.h5'%fold, monitor='val_f1_score', verbose=0, save_best_only=True,\n",
    "        save_weights_only=True, mode='max', save_freq='epoch')\n",
    "    cb_lr_schedule = tf.keras.callbacks.ReduceLROnPlateau(\n",
    "        monitor = 'val_f1_score', factor = 0.1, patience = 2, verbose = 2, min_delta = 0.0001, mode = 'max')\n",
    "    \n",
    "    train_history = model.fit(\n",
    "    train_dataset,\n",
    "    steps_per_epoch=n_steps,\n",
    "    callbacks = [cb_lr_schedule,sv,lr_warm_up],\n",
    "    validation_data= valid_dataset,\n",
    "    epochs=EPOCHS)\n",
    "    \n",
    "    \n",
    "    print('Loading best model...')\n",
    "    model.load_weights('fold-%i.h5'%fold)\n",
    "    \n",
    "        \n",
    "    x_full_train = regular_encode(fake_train1.tweet, tokenizer, maxlen=MAX_LEN)\n",
    "    \n",
    "    \n",
    "    weights.append(model.evaluate(valid_dataset)[2])\n",
    "    x_fake_test = regular_encode(fake_test.tweet,tokenizer,maxlen=MAX_LEN)\n",
    "    preds.append(model.predict(x_fake_test))\n",
    "    \n",
    "    \n",
    "    if DISPLAY_PLOT:\n",
    "        plt.figure(figsize=(15,5))\n",
    "        plt.plot(np.arange(EPOCHS),train_history.history['f1_score'],'-o',label='Train F1 Score',color='#ff7f0e')\n",
    "        plt.plot(np.arange(EPOCHS),train_history.history['val_f1_score'],'-o',label='Val F1 Score',color='#1f77b4')\n",
    "        x = np.argmax( train_history.history['val_f1_score'] ); y = np.max( train_history.history['val_f1_score'] )\n",
    "        xdist = plt.xlim()[1] - plt.xlim()[0]; ydist = plt.ylim()[1] - plt.ylim()[0]\n",
    "        plt.scatter(x,y,s=200,color='#1f77b4'); plt.text(x-0.03*xdist,y-0.13*ydist,'max score\\n%.2f'%y,size=14)\n",
    "        plt.ylabel('F1 Score',size=14); plt.xlabel('Epoch',size=14)\n",
    "        plt.legend(loc=2)\n",
    "        plt2 = plt.gca().twinx()\n",
    "        plt2.plot(np.arange(EPOCHS),train_history.history['loss'],'-o',label='Train Loss',color='#2ca02c')\n",
    "        plt2.plot(np.arange(EPOCHS),train_history.history['val_loss'],'-o',label='Val Loss',color='#d62728')\n",
    "        x = np.argmin( train_history.history['val_loss'] ); y = np.min( train_history.history['val_loss'] )\n",
    "        ydist = plt.ylim()[1] - plt.ylim()[0]\n",
    "        plt.scatter(x,y,s=200,color='#d62728'); plt.text(x-0.03*xdist,y+0.05*ydist,'min loss',size=14)\n",
    "        plt.ylabel('Loss',size=14)\n",
    "        plt.title('FOLD %i'%(fold+1),size=18)\n",
    "        plt.legend(loc=3)\n",
    "        plt.show()  \n",
    "        \n",
    "    del model"
   ]
  },
  {
   "cell_type": "code",
   "execution_count": 21,
   "metadata": {
    "execution": {
     "iopub.execute_input": "2020-12-22T06:13:25.260126Z",
     "iopub.status.busy": "2020-12-22T06:13:25.259436Z",
     "iopub.status.idle": "2020-12-22T06:13:25.261842Z",
     "shell.execute_reply": "2020-12-22T06:13:25.262341Z"
    },
    "papermill": {
     "duration": 0.805199,
     "end_time": "2020-12-22T06:13:25.262548",
     "exception": false,
     "start_time": "2020-12-22T06:13:24.457349",
     "status": "completed"
    },
    "tags": []
   },
   "outputs": [],
   "source": [
    "def weight_ensemble(weights,predictions):\n",
    "    weight_sum = np.sum(weights)  \n",
    "    prediction_sum = 0\n",
    "    for i in range(len(weights)):\n",
    "        prediction_sum += (weights[i]/weight_sum)*predictions[i]\n",
    "    print(prediction_sum)\n",
    "    np.savez('model_predict_weight',prediction_sum)\n",
    "    result = np.argmax(prediction_sum,axis=1)\n",
    "    return result"
   ]
  },
  {
   "cell_type": "code",
   "execution_count": 22,
   "metadata": {
    "execution": {
     "iopub.execute_input": "2020-12-22T06:13:26.819342Z",
     "iopub.status.busy": "2020-12-22T06:13:26.818707Z",
     "iopub.status.idle": "2020-12-22T06:13:26.823770Z",
     "shell.execute_reply": "2020-12-22T06:13:26.824256Z"
    },
    "papermill": {
     "duration": 0.77688,
     "end_time": "2020-12-22T06:13:26.824426",
     "exception": false,
     "start_time": "2020-12-22T06:13:26.047546",
     "status": "completed"
    },
    "tags": []
   },
   "outputs": [],
   "source": [
    "def mean_ensemble(predictions):\n",
    "    result = np.argmax(np.mean(predictions,axis=0),axis=1)\n",
    "    np.savez('model_predict_mean',np.mean(predictions,axis=0))\n",
    "    return result"
   ]
  },
  {
   "cell_type": "code",
   "execution_count": 23,
   "metadata": {
    "execution": {
     "iopub.execute_input": "2020-12-22T06:13:28.374878Z",
     "iopub.status.busy": "2020-12-22T06:13:28.374104Z",
     "iopub.status.idle": "2020-12-22T06:13:28.400664Z",
     "shell.execute_reply": "2020-12-22T06:13:28.399694Z"
    },
    "papermill": {
     "duration": 0.8104,
     "end_time": "2020-12-22T06:13:28.400810",
     "exception": false,
     "start_time": "2020-12-22T06:13:27.590410",
     "status": "completed"
    },
    "tags": []
   },
   "outputs": [
    {
     "name": "stdout",
     "output_type": "stream",
     "text": [
      "[[0.00455395 0.995446  ]\n",
      " [0.9961884  0.00381161]\n",
      " [0.9963539  0.00364614]\n",
      " ...\n",
      " [0.00249177 0.9975082 ]\n",
      " [0.00700169 0.99299824]\n",
      " [0.00305824 0.9969418 ]]\n"
     ]
    }
   ],
   "source": [
    "weight_result= weight_ensemble(weights,preds)\n",
    "# f1_score(np.array(fake_valid1.label,dtype='int32'),weight_result,average='weighted')"
   ]
  },
  {
   "cell_type": "code",
   "execution_count": 24,
   "metadata": {
    "execution": {
     "iopub.execute_input": "2020-12-22T06:13:30.013538Z",
     "iopub.status.busy": "2020-12-22T06:13:30.012540Z",
     "iopub.status.idle": "2020-12-22T06:13:30.015280Z",
     "shell.execute_reply": "2020-12-22T06:13:30.015972Z"
    },
    "papermill": {
     "duration": 0.785552,
     "end_time": "2020-12-22T06:13:30.016164",
     "exception": false,
     "start_time": "2020-12-22T06:13:29.230612",
     "status": "completed"
    },
    "tags": []
   },
   "outputs": [],
   "source": [
    "data1 = np.load('./model_predict_weight.npz')"
   ]
  },
  {
   "cell_type": "code",
   "execution_count": 25,
   "metadata": {
    "execution": {
     "iopub.execute_input": "2020-12-22T06:13:31.560191Z",
     "iopub.status.busy": "2020-12-22T06:13:31.559498Z",
     "iopub.status.idle": "2020-12-22T06:13:31.563006Z",
     "shell.execute_reply": "2020-12-22T06:13:31.563561Z"
    },
    "papermill": {
     "duration": 0.774267,
     "end_time": "2020-12-22T06:13:31.563708",
     "exception": false,
     "start_time": "2020-12-22T06:13:30.789441",
     "status": "completed"
    },
    "tags": []
   },
   "outputs": [],
   "source": [
    "# mean_result = mean_ensemble(preds)\n",
    "# f1=f1_score(np.array(fake_valid1.label,dtype='int32'),mean_result,average='weighted')\n",
    "# f1"
   ]
  },
  {
   "cell_type": "code",
   "execution_count": 26,
   "metadata": {
    "execution": {
     "iopub.execute_input": "2020-12-22T06:13:33.136087Z",
     "iopub.status.busy": "2020-12-22T06:13:33.135336Z",
     "iopub.status.idle": "2020-12-22T06:13:33.138469Z",
     "shell.execute_reply": "2020-12-22T06:13:33.137904Z"
    },
    "papermill": {
     "duration": 0.79186,
     "end_time": "2020-12-22T06:13:33.138584",
     "exception": false,
     "start_time": "2020-12-22T06:13:32.346724",
     "status": "completed"
    },
    "tags": []
   },
   "outputs": [],
   "source": [
    "# result = np.argmax(preds[4],axis=1)\n",
    "# f1_score(np.array(fake_valid1.label,dtype='int32'),result,average='weighted')"
   ]
  },
  {
   "cell_type": "code",
   "execution_count": 27,
   "metadata": {
    "execution": {
     "iopub.execute_input": "2020-12-22T06:13:34.796742Z",
     "iopub.status.busy": "2020-12-22T06:13:34.796073Z",
     "iopub.status.idle": "2020-12-22T06:13:34.799108Z",
     "shell.execute_reply": "2020-12-22T06:13:34.798595Z"
    },
    "papermill": {
     "duration": 0.824257,
     "end_time": "2020-12-22T06:13:34.799224",
     "exception": false,
     "start_time": "2020-12-22T06:13:33.974967",
     "status": "completed"
    },
    "tags": []
   },
   "outputs": [],
   "source": [
    "def make_submission(result):\n",
    "    submission = pd.DataFrame(columns=['id','label'])\n",
    "    submission.label = result\n",
    "    nlist = range(1,result.shape[0]+1)\n",
    "    submission.id = nlist\n",
    "    submission.to_csv('answer.txt', index=False)"
   ]
  },
  {
   "cell_type": "code",
   "execution_count": 28,
   "metadata": {
    "execution": {
     "iopub.execute_input": "2020-12-22T06:13:36.470179Z",
     "iopub.status.busy": "2020-12-22T06:13:36.469487Z",
     "iopub.status.idle": "2020-12-22T06:13:36.524210Z",
     "shell.execute_reply": "2020-12-22T06:13:36.524792Z"
    },
    "papermill": {
     "duration": 0.916489,
     "end_time": "2020-12-22T06:13:36.524968",
     "exception": false,
     "start_time": "2020-12-22T06:13:35.608479",
     "status": "completed"
    },
    "tags": []
   },
   "outputs": [],
   "source": [
    "make_submission(weight_result)\n",
    "# make_submission(mean_result)"
   ]
  },
  {
   "cell_type": "code",
   "execution_count": 29,
   "metadata": {
    "execution": {
     "iopub.execute_input": "2020-12-22T06:13:38.092352Z",
     "iopub.status.busy": "2020-12-22T06:13:38.091732Z",
     "iopub.status.idle": "2020-12-22T06:13:38.096705Z",
     "shell.execute_reply": "2020-12-22T06:13:38.097213Z"
    },
    "papermill": {
     "duration": 0.787861,
     "end_time": "2020-12-22T06:13:38.097356",
     "exception": false,
     "start_time": "2020-12-22T06:13:37.309495",
     "status": "completed"
    },
    "tags": []
   },
   "outputs": [
    {
     "data": {
      "text/plain": [
       "7"
      ]
     },
     "execution_count": 29,
     "metadata": {},
     "output_type": "execute_result"
    }
   ],
   "source": [
    "x"
   ]
  },
  {
   "cell_type": "code",
   "execution_count": 30,
   "metadata": {
    "execution": {
     "iopub.execute_input": "2020-12-22T06:13:39.655527Z",
     "iopub.status.busy": "2020-12-22T06:13:39.654830Z",
     "iopub.status.idle": "2020-12-22T06:13:39.671349Z",
     "shell.execute_reply": "2020-12-22T06:13:39.671985Z"
    },
    "papermill": {
     "duration": 0.797863,
     "end_time": "2020-12-22T06:13:39.672138",
     "exception": false,
     "start_time": "2020-12-22T06:13:38.874275",
     "status": "completed"
    },
    "tags": []
   },
   "outputs": [],
   "source": [
    "submission = pd.DataFrame(columns=['id','label'])\n",
    "submission.label = weight_result\n",
    "nlist = range(1,weight_result.shape[0]+1)\n",
    "submission.id = nlist\n",
    "submission.to_csv('answer.txt', index=False)"
   ]
  },
  {
   "cell_type": "code",
   "execution_count": 31,
   "metadata": {
    "execution": {
     "iopub.execute_input": "2020-12-22T06:13:41.239666Z",
     "iopub.status.busy": "2020-12-22T06:13:41.238901Z",
     "iopub.status.idle": "2020-12-22T06:19:41.672597Z",
     "shell.execute_reply": "2020-12-22T06:19:41.671454Z"
    },
    "papermill": {
     "duration": 361.213555,
     "end_time": "2020-12-22T06:19:41.672752",
     "exception": false,
     "start_time": "2020-12-22T06:13:40.459197",
     "status": "completed"
    },
    "tags": []
   },
   "outputs": [
    {
     "data": {
      "application/vnd.jupyter.widget-view+json": {
       "model_id": "76ecbc63482247a9968558df4ff365c7",
       "version_major": 2,
       "version_minor": 0
      },
      "text/plain": [
       "HBox(children=(FloatProgress(value=0.0, description='Downloading', max=468.0, style=ProgressStyle(description_…"
      ]
     },
     "metadata": {},
     "output_type": "display_data"
    },
    {
     "name": "stdout",
     "output_type": "stream",
     "text": [
      "\n"
     ]
    },
    {
     "data": {
      "application/vnd.jupyter.widget-view+json": {
       "model_id": "518b8aa208a74af6b08755265cd6d147",
       "version_major": 2,
       "version_minor": 0
      },
      "text/plain": [
       "HBox(children=(FloatProgress(value=0.0, description='Downloading', max=227845.0, style=ProgressStyle(descripti…"
      ]
     },
     "metadata": {},
     "output_type": "display_data"
    },
    {
     "name": "stdout",
     "output_type": "stream",
     "text": [
      "\n"
     ]
    },
    {
     "data": {
      "application/vnd.jupyter.widget-view+json": {
       "model_id": "8b87529b4d234dc89cbaa83f183e674d",
       "version_major": 2,
       "version_minor": 0
      },
      "text/plain": [
       "HBox(children=(FloatProgress(value=0.0, description='Downloading', max=15604.0, style=ProgressStyle(descriptio…"
      ]
     },
     "metadata": {},
     "output_type": "display_data"
    },
    {
     "name": "stdout",
     "output_type": "stream",
     "text": [
      "\n"
     ]
    },
    {
     "data": {
      "application/vnd.jupyter.widget-view+json": {
       "model_id": "758f2042f50b497eaeed1164e68fdf37",
       "version_major": 2,
       "version_minor": 0
      },
      "text/plain": [
       "HBox(children=(FloatProgress(value=0.0, description='Downloading', max=112.0, style=ProgressStyle(description_…"
      ]
     },
     "metadata": {},
     "output_type": "display_data"
    },
    {
     "name": "stdout",
     "output_type": "stream",
     "text": [
      "\n"
     ]
    },
    {
     "data": {
      "application/vnd.jupyter.widget-view+json": {
       "model_id": "e099a4f15f2d419ab3124906af6b997c",
       "version_major": 2,
       "version_minor": 0
      },
      "text/plain": [
       "HBox(children=(FloatProgress(value=0.0, description='Downloading', max=2.0, style=ProgressStyle(description_wi…"
      ]
     },
     "metadata": {},
     "output_type": "display_data"
    },
    {
     "name": "stdout",
     "output_type": "stream",
     "text": [
      "\n"
     ]
    },
    {
     "data": {
      "application/vnd.jupyter.widget-view+json": {
       "model_id": "6b60e555e9324991a90eb6c40d232ba3",
       "version_major": 2,
       "version_minor": 0
      },
      "text/plain": [
       "HBox(children=(FloatProgress(value=0.0, description='Downloading', max=544773476.0, style=ProgressStyle(descri…"
      ]
     },
     "metadata": {},
     "output_type": "display_data"
    },
    {
     "name": "stdout",
     "output_type": "stream",
     "text": [
      "\n",
      "Model: \"model_1\"\n",
      "_________________________________________________________________\n",
      "Layer (type)                 Output Shape              Param #   \n",
      "=================================================================\n",
      "input_word_ids (InputLayer)  [(None, 140)]             0         \n",
      "_________________________________________________________________\n",
      "tf_bert_model_1 (TFBertModel ((None, 140, 768), (None, 110572032 \n",
      "_________________________________________________________________\n",
      "tf_op_layer_strided_slice_1  [(None, 768)]             0         \n",
      "_________________________________________________________________\n",
      "dense_1 (Dense)              (None, 2)                 1538      \n",
      "=================================================================\n",
      "Total params: 110,573,570\n",
      "Trainable params: 110,573,570\n",
      "Non-trainable params: 0\n",
      "_________________________________________________________________\n",
      "\n",
      "Epoch 00001: LearningRateScheduler reducing learning rate to 1e-06.\n",
      "Epoch 1/12\n",
      "33/33 [==============================] - 43s 1s/step - accuracy: 0.4659 - loss: 0.9567 - f1_score: 0.4629 - val_accuracy: 0.6603 - val_loss: 0.6227 - val_f1_score: 0.6591 - lr: 1.0000e-06\n",
      "\n",
      "Epoch 00002: LearningRateScheduler reducing learning rate to 9.166666666666668e-06.\n",
      "Epoch 2/12\n",
      "33/33 [==============================] - 10s 312ms/step - accuracy: 0.8163 - loss: 0.4061 - f1_score: 0.8162 - val_accuracy: 0.8995 - val_loss: 0.2539 - val_f1_score: 0.8996 - lr: 9.1667e-06\n",
      "\n",
      "Epoch 00003: LearningRateScheduler reducing learning rate to 1.7333333333333336e-05.\n",
      "Epoch 3/12\n",
      "33/33 [==============================] - 10s 312ms/step - accuracy: 0.9143 - loss: 0.2187 - f1_score: 0.9143 - val_accuracy: 0.9458 - val_loss: 0.1563 - val_f1_score: 0.9456 - lr: 1.7333e-05\n",
      "\n",
      "Epoch 00004: LearningRateScheduler reducing learning rate to 2.5500000000000003e-05.\n",
      "Epoch 4/12\n",
      "33/33 [==============================] - 10s 314ms/step - accuracy: 0.9600 - loss: 0.1357 - f1_score: 0.9600 - val_accuracy: 0.9640 - val_loss: 0.1247 - val_f1_score: 0.9639 - lr: 2.5500e-05\n",
      "\n",
      "Epoch 00005: LearningRateScheduler reducing learning rate to 3.366666666666667e-05.\n",
      "Epoch 5/12\n",
      "33/33 [==============================] - 10s 312ms/step - accuracy: 0.9779 - loss: 0.0931 - f1_score: 0.9779 - val_accuracy: 0.9888 - val_loss: 0.0655 - val_f1_score: 0.9888 - lr: 3.3667e-05\n",
      "\n",
      "Epoch 00006: LearningRateScheduler reducing learning rate to 4.183333333333334e-05.\n",
      "Epoch 6/12\n",
      "33/33 [==============================] - 10s 311ms/step - accuracy: 0.9895 - loss: 0.0666 - f1_score: 0.9895 - val_accuracy: 0.9911 - val_loss: 0.0597 - val_f1_score: 0.9911 - lr: 4.1833e-05\n",
      "\n",
      "Epoch 00007: LearningRateScheduler reducing learning rate to 5e-05.\n",
      "Epoch 7/12\n",
      "33/33 [==============================] - 10s 310ms/step - accuracy: 0.9940 - loss: 0.0551 - f1_score: 0.9940 - val_accuracy: 0.9958 - val_loss: 0.0483 - val_f1_score: 0.9958 - lr: 5.0000e-05\n",
      "\n",
      "Epoch 00008: LearningRateScheduler reducing learning rate to 2.0600000000000003e-05.\n",
      "Epoch 8/12\n",
      "33/33 [==============================] - 10s 308ms/step - accuracy: 0.9986 - loss: 0.0437 - f1_score: 0.9986 - val_accuracy: 0.9991 - val_loss: 0.0405 - val_f1_score: 0.9991 - lr: 2.0600e-05\n",
      "\n",
      "Epoch 00009: LearningRateScheduler reducing learning rate to 8.840000000000003e-06.\n",
      "Epoch 9/12\n",
      "33/33 [==============================] - 10s 309ms/step - accuracy: 0.9989 - loss: 0.0417 - f1_score: 0.9989 - val_accuracy: 1.0000 - val_loss: 0.0388 - val_f1_score: 1.0000 - lr: 8.8400e-06\n",
      "\n",
      "Epoch 00010: LearningRateScheduler reducing learning rate to 4.136000000000001e-06.\n",
      "Epoch 10/12\n",
      "33/33 [==============================] - 8s 246ms/step - accuracy: 0.9987 - loss: 0.0412 - f1_score: 0.9987 - val_accuracy: 1.0000 - val_loss: 0.0387 - val_f1_score: 1.0000 - lr: 4.1360e-06\n",
      "\n",
      "Epoch 00011: LearningRateScheduler reducing learning rate to 2.2544000000000004e-06.\n",
      "Epoch 11/12\n",
      "33/33 [==============================] - 8s 243ms/step - accuracy: 0.9992 - loss: 0.0403 - f1_score: 0.9992 - val_accuracy: 1.0000 - val_loss: 0.0381 - val_f1_score: 1.0000 - lr: 2.2544e-06\n",
      "\n",
      "Epoch 00012: LearningRateScheduler reducing learning rate to 1.5017600000000001e-06.\n",
      "Epoch 12/12\n",
      "33/33 [==============================] - ETA: 0s - accuracy: 0.9994 - loss: 0.0403 - f1_score: 0.9994\n",
      "Epoch 00012: ReduceLROnPlateau reducing learning rate to 7.508800194955256e-07.\n",
      "33/33 [==============================] - 8s 241ms/step - accuracy: 0.9994 - loss: 0.0403 - f1_score: 0.9994 - val_accuracy: 1.0000 - val_loss: 0.0379 - val_f1_score: 1.0000 - lr: 7.5088e-07\n",
      "Loading best model...\n",
      "9/9 [==============================] - 1s 72ms/step - accuracy: 1.0000 - loss: 0.0388 - f1_score: 1.0000\n"
     ]
    }
   ],
   "source": [
    "\n",
    "MODEL = \"lordtt13/COVID-SciBERT\"\n",
    "tokenizer = AutoTokenizer.from_pretrained(MODEL)\n",
    "\n",
    "\n",
    "x_fake_valid = regular_encode(fake_valid1.tweet,tokenizer,maxlen=MAX_LEN)\n",
    "x_fake_train = regular_encode(fake_train1.tweet,tokenizer,maxlen=MAX_LEN)\n",
    "\n",
    "\n",
    "\n",
    "y_fake_train = to_categorical(fake_train1.label,2,dtype='int32')\n",
    "y_fake_valid = to_categorical(fake_valid1.label,2,dtype='int32')\n",
    "\n",
    "with strategy.scope():\n",
    "    transformer_layer = TFAutoModel.from_pretrained(MODEL)\n",
    "    model = build_model(transformer_layer, max_len=MAX_LEN)\n",
    "model.summary()\n",
    "n_steps = x_fake_train.shape[0] // BATCH_SIZE\n",
    "\n",
    "train_dataset = get_train_dataset(x_fake_train,y_fake_train)\n",
    "valid_dataset = get_valid_dataset(x_fake_valid,y_fake_valid)\n",
    "cb_lr_schedule = tf.keras.callbacks.ReduceLROnPlateau(\n",
    "        monitor = 'val_f1_score', factor = 0.5, patience = 3, verbose = 1, min_delta = 0.0001, mode = 'max')\n",
    "sv = tf.keras.callbacks.ModelCheckpoint(\n",
    "        'best_model.h5', monitor='val_f1_score', verbose=0, save_best_only=True,\n",
    "        save_weights_only=True, mode='max', save_freq='epoch')\n",
    "train_history = model.fit(\n",
    "    train_dataset,\n",
    "    steps_per_epoch=n_steps,\n",
    "    callbacks = [cb_lr_schedule,lr_warm_up,sv],\n",
    "    validation_data= valid_dataset,\n",
    "    epochs=EPOCHS\n",
    "    )\n",
    "print('Loading best model...')\n",
    "model.load_weights('best_model.h5')\n",
    "x_fake_test = regular_encode(fake_valid1.tweet,tokenizer,maxlen=MAX_LEN)\n",
    "score = model.evaluate(valid_dataset)[2]\n",
    "pred = model.predict(x_fake_test)\n",
    "np.savez('single-model',pred)"
   ]
  },
  {
   "cell_type": "code",
   "execution_count": 32,
   "metadata": {
    "execution": {
     "iopub.execute_input": "2020-12-22T06:19:43.571702Z",
     "iopub.status.busy": "2020-12-22T06:19:43.570985Z",
     "iopub.status.idle": "2020-12-22T06:19:43.588054Z",
     "shell.execute_reply": "2020-12-22T06:19:43.587518Z"
    },
    "papermill": {
     "duration": 0.981259,
     "end_time": "2020-12-22T06:19:43.588176",
     "exception": false,
     "start_time": "2020-12-22T06:19:42.606917",
     "status": "completed"
    },
    "tags": []
   },
   "outputs": [
    {
     "data": {
      "text/plain": [
       "1.0"
      ]
     },
     "execution_count": 32,
     "metadata": {},
     "output_type": "execute_result"
    }
   ],
   "source": [
    "f1_score(np.array(fake_valid1.label,dtype='int32'),np.argmax(pred,axis=1),average='weighted')"
   ]
  },
  {
   "cell_type": "code",
   "execution_count": 33,
   "metadata": {
    "execution": {
     "iopub.execute_input": "2020-12-22T06:19:45.466475Z",
     "iopub.status.busy": "2020-12-22T06:19:45.465698Z",
     "iopub.status.idle": "2020-12-22T06:19:46.566594Z",
     "shell.execute_reply": "2020-12-22T06:19:46.567137Z"
    },
    "papermill": {
     "duration": 2.047524,
     "end_time": "2020-12-22T06:19:46.567294",
     "exception": false,
     "start_time": "2020-12-22T06:19:44.519770",
     "status": "completed"
    },
    "tags": []
   },
   "outputs": [
    {
     "ename": "NameError",
     "evalue": "name 'result' is not defined",
     "output_type": "error",
     "traceback": [
      "\u001b[0;31m---------------------------------------------------------------------------\u001b[0m",
      "\u001b[0;31mNameError\u001b[0m                                 Traceback (most recent call last)",
      "\u001b[0;32m<ipython-input-33-d6974bef2cb2>\u001b[0m in \u001b[0;36m<module>\u001b[0;34m\u001b[0m\n\u001b[1;32m      1\u001b[0m \u001b[0msubmission\u001b[0m \u001b[0;34m=\u001b[0m \u001b[0mpd\u001b[0m\u001b[0;34m.\u001b[0m\u001b[0mDataFrame\u001b[0m\u001b[0;34m(\u001b[0m\u001b[0mcolumns\u001b[0m\u001b[0;34m=\u001b[0m\u001b[0;34m[\u001b[0m\u001b[0;34m'id'\u001b[0m\u001b[0;34m,\u001b[0m\u001b[0;34m'label'\u001b[0m\u001b[0;34m]\u001b[0m\u001b[0;34m)\u001b[0m\u001b[0;34m\u001b[0m\u001b[0;34m\u001b[0m\u001b[0m\n\u001b[0;32m----> 2\u001b[0;31m \u001b[0msubmission\u001b[0m\u001b[0;34m.\u001b[0m\u001b[0mlabel\u001b[0m \u001b[0;34m=\u001b[0m \u001b[0mresult\u001b[0m\u001b[0;34m\u001b[0m\u001b[0;34m\u001b[0m\u001b[0m\n\u001b[0m\u001b[1;32m      3\u001b[0m \u001b[0mnlist\u001b[0m \u001b[0;34m=\u001b[0m \u001b[0mrange\u001b[0m\u001b[0;34m(\u001b[0m\u001b[0;36m1\u001b[0m\u001b[0;34m,\u001b[0m\u001b[0mresult\u001b[0m\u001b[0;34m.\u001b[0m\u001b[0mshape\u001b[0m\u001b[0;34m[\u001b[0m\u001b[0;36m0\u001b[0m\u001b[0;34m]\u001b[0m\u001b[0;34m+\u001b[0m\u001b[0;36m1\u001b[0m\u001b[0;34m)\u001b[0m\u001b[0;34m\u001b[0m\u001b[0;34m\u001b[0m\u001b[0m\n\u001b[1;32m      4\u001b[0m \u001b[0msubmission\u001b[0m\u001b[0;34m.\u001b[0m\u001b[0mid\u001b[0m \u001b[0;34m=\u001b[0m \u001b[0mnlist\u001b[0m\u001b[0;34m\u001b[0m\u001b[0;34m\u001b[0m\u001b[0m\n\u001b[1;32m      5\u001b[0m \u001b[0msubmission\u001b[0m\u001b[0;34m.\u001b[0m\u001b[0mto_csv\u001b[0m\u001b[0;34m(\u001b[0m\u001b[0;34m'answer.txt'\u001b[0m\u001b[0;34m,\u001b[0m \u001b[0msep\u001b[0m\u001b[0;34m=\u001b[0m\u001b[0;34m'\\t'\u001b[0m\u001b[0;34m,\u001b[0m \u001b[0mindex\u001b[0m\u001b[0;34m=\u001b[0m\u001b[0;32mFalse\u001b[0m\u001b[0;34m)\u001b[0m\u001b[0;34m\u001b[0m\u001b[0;34m\u001b[0m\u001b[0m\n",
      "\u001b[0;31mNameError\u001b[0m: name 'result' is not defined"
     ]
    }
   ],
   "source": [
    "submission = pd.DataFrame(columns=['id','label'])\n",
    "submission.label = result\n",
    "nlist = range(1,result.shape[0]+1)\n",
    "submission.id = nlist\n",
    "submission.to_csv('answer.txt', sep='\\t', index=False)"
   ]
  }
 ],
 "metadata": {
  "kernelspec": {
   "display_name": "Python 3",
   "language": "python",
   "name": "python3"
  },
  "language_info": {
   "codemirror_mode": {
    "name": "ipython",
    "version": 3
   },
   "file_extension": ".py",
   "mimetype": "text/x-python",
   "name": "python",
   "nbconvert_exporter": "python",
   "pygments_lexer": "ipython3",
   "version": "3.7.6"
  },
  "papermill": {
   "duration": 3571.600563,
   "end_time": "2020-12-22T06:19:47.944257",
   "environment_variables": {},
   "exception": null,
   "input_path": "__notebook__.ipynb",
   "output_path": "__notebook__.ipynb",
   "parameters": {},
   "start_time": "2020-12-22T05:20:16.343694",
   "version": "2.1.0"
  },
  "widgets": {
   "application/vnd.jupyter.widget-state+json": {
    "state": {
     "000cb4f234f443a58a4536d9c05f0129": {
      "model_module": "@jupyter-widgets/base",
      "model_module_version": "1.2.0",
      "model_name": "LayoutModel",
      "state": {
       "_model_module": "@jupyter-widgets/base",
       "_model_module_version": "1.2.0",
       "_model_name": "LayoutModel",
       "_view_count": null,
       "_view_module": "@jupyter-widgets/base",
       "_view_module_version": "1.2.0",
       "_view_name": "LayoutView",
       "align_content": null,
       "align_items": null,
       "align_self": null,
       "border": null,
       "bottom": null,
       "display": null,
       "flex": null,
       "flex_flow": null,
       "grid_area": null,
       "grid_auto_columns": null,
       "grid_auto_flow": null,
       "grid_auto_rows": null,
       "grid_column": null,
       "grid_gap": null,
       "grid_row": null,
       "grid_template_areas": null,
       "grid_template_columns": null,
       "grid_template_rows": null,
       "height": null,
       "justify_content": null,
       "justify_items": null,
       "left": null,
       "margin": null,
       "max_height": null,
       "max_width": null,
       "min_height": null,
       "min_width": null,
       "object_fit": null,
       "object_position": null,
       "order": null,
       "overflow": null,
       "overflow_x": null,
       "overflow_y": null,
       "padding": null,
       "right": null,
       "top": null,
       "visibility": null,
       "width": null
      }
     },
     "0c70735f88634f419f78ad2c3795f059": {
      "model_module": "@jupyter-widgets/base",
      "model_module_version": "1.2.0",
      "model_name": "LayoutModel",
      "state": {
       "_model_module": "@jupyter-widgets/base",
       "_model_module_version": "1.2.0",
       "_model_name": "LayoutModel",
       "_view_count": null,
       "_view_module": "@jupyter-widgets/base",
       "_view_module_version": "1.2.0",
       "_view_name": "LayoutView",
       "align_content": null,
       "align_items": null,
       "align_self": null,
       "border": null,
       "bottom": null,
       "display": null,
       "flex": null,
       "flex_flow": null,
       "grid_area": null,
       "grid_auto_columns": null,
       "grid_auto_flow": null,
       "grid_auto_rows": null,
       "grid_column": null,
       "grid_gap": null,
       "grid_row": null,
       "grid_template_areas": null,
       "grid_template_columns": null,
       "grid_template_rows": null,
       "height": null,
       "justify_content": null,
       "justify_items": null,
       "left": null,
       "margin": null,
       "max_height": null,
       "max_width": null,
       "min_height": null,
       "min_width": null,
       "object_fit": null,
       "object_position": null,
       "order": null,
       "overflow": null,
       "overflow_x": null,
       "overflow_y": null,
       "padding": null,
       "right": null,
       "top": null,
       "visibility": null,
       "width": null
      }
     },
     "0e7a560ba3db4afa8ab6d0091fbaed7e": {
      "model_module": "@jupyter-widgets/base",
      "model_module_version": "1.2.0",
      "model_name": "LayoutModel",
      "state": {
       "_model_module": "@jupyter-widgets/base",
       "_model_module_version": "1.2.0",
       "_model_name": "LayoutModel",
       "_view_count": null,
       "_view_module": "@jupyter-widgets/base",
       "_view_module_version": "1.2.0",
       "_view_name": "LayoutView",
       "align_content": null,
       "align_items": null,
       "align_self": null,
       "border": null,
       "bottom": null,
       "display": null,
       "flex": null,
       "flex_flow": null,
       "grid_area": null,
       "grid_auto_columns": null,
       "grid_auto_flow": null,
       "grid_auto_rows": null,
       "grid_column": null,
       "grid_gap": null,
       "grid_row": null,
       "grid_template_areas": null,
       "grid_template_columns": null,
       "grid_template_rows": null,
       "height": null,
       "justify_content": null,
       "justify_items": null,
       "left": null,
       "margin": null,
       "max_height": null,
       "max_width": null,
       "min_height": null,
       "min_width": null,
       "object_fit": null,
       "object_position": null,
       "order": null,
       "overflow": null,
       "overflow_x": null,
       "overflow_y": null,
       "padding": null,
       "right": null,
       "top": null,
       "visibility": null,
       "width": null
      }
     },
     "12c8dbd2635243999d27d9d7abeccd14": {
      "model_module": "@jupyter-widgets/controls",
      "model_module_version": "1.5.0",
      "model_name": "HBoxModel",
      "state": {
       "_dom_classes": [],
       "_model_module": "@jupyter-widgets/controls",
       "_model_module_version": "1.5.0",
       "_model_name": "HBoxModel",
       "_view_count": null,
       "_view_module": "@jupyter-widgets/controls",
       "_view_module_version": "1.5.0",
       "_view_name": "HBoxView",
       "box_style": "",
       "children": [
        "IPY_MODEL_68697492218e4cb6b8a9df019764ba55",
        "IPY_MODEL_3bab7149855a40e186c050c81fe17ad9"
       ],
       "layout": "IPY_MODEL_7313ad0a985346a0bf6569c83db5400d"
      }
     },
     "14bbd48efae64adebb56e50c29293fd8": {
      "model_module": "@jupyter-widgets/controls",
      "model_module_version": "1.5.0",
      "model_name": "HBoxModel",
      "state": {
       "_dom_classes": [],
       "_model_module": "@jupyter-widgets/controls",
       "_model_module_version": "1.5.0",
       "_model_name": "HBoxModel",
       "_view_count": null,
       "_view_module": "@jupyter-widgets/controls",
       "_view_module_version": "1.5.0",
       "_view_name": "HBoxView",
       "box_style": "",
       "children": [
        "IPY_MODEL_45bb58493017426195c70d86a18130ec",
        "IPY_MODEL_2d88d931d04644e4aa9e1003c3d00e8e"
       ],
       "layout": "IPY_MODEL_4f33cfdb4cfc4f009e1d94d284f5165b"
      }
     },
     "195e8fd4348c45a6a0b9b2bb346ec6bb": {
      "model_module": "@jupyter-widgets/controls",
      "model_module_version": "1.5.0",
      "model_name": "ProgressStyleModel",
      "state": {
       "_model_module": "@jupyter-widgets/controls",
       "_model_module_version": "1.5.0",
       "_model_name": "ProgressStyleModel",
       "_view_count": null,
       "_view_module": "@jupyter-widgets/base",
       "_view_module_version": "1.2.0",
       "_view_name": "StyleView",
       "bar_color": null,
       "description_width": "initial"
      }
     },
     "203316ffccee4b66b2d25939d1983f11": {
      "model_module": "@jupyter-widgets/base",
      "model_module_version": "1.2.0",
      "model_name": "LayoutModel",
      "state": {
       "_model_module": "@jupyter-widgets/base",
       "_model_module_version": "1.2.0",
       "_model_name": "LayoutModel",
       "_view_count": null,
       "_view_module": "@jupyter-widgets/base",
       "_view_module_version": "1.2.0",
       "_view_name": "LayoutView",
       "align_content": null,
       "align_items": null,
       "align_self": null,
       "border": null,
       "bottom": null,
       "display": null,
       "flex": null,
       "flex_flow": null,
       "grid_area": null,
       "grid_auto_columns": null,
       "grid_auto_flow": null,
       "grid_auto_rows": null,
       "grid_column": null,
       "grid_gap": null,
       "grid_row": null,
       "grid_template_areas": null,
       "grid_template_columns": null,
       "grid_template_rows": null,
       "height": null,
       "justify_content": null,
       "justify_items": null,
       "left": null,
       "margin": null,
       "max_height": null,
       "max_width": null,
       "min_height": null,
       "min_width": null,
       "object_fit": null,
       "object_position": null,
       "order": null,
       "overflow": null,
       "overflow_x": null,
       "overflow_y": null,
       "padding": null,
       "right": null,
       "top": null,
       "visibility": null,
       "width": null
      }
     },
     "25da3ef1d55346b7b9e587e5120d5206": {
      "model_module": "@jupyter-widgets/controls",
      "model_module_version": "1.5.0",
      "model_name": "DescriptionStyleModel",
      "state": {
       "_model_module": "@jupyter-widgets/controls",
       "_model_module_version": "1.5.0",
       "_model_name": "DescriptionStyleModel",
       "_view_count": null,
       "_view_module": "@jupyter-widgets/base",
       "_view_module_version": "1.2.0",
       "_view_name": "StyleView",
       "description_width": ""
      }
     },
     "2af806d801fe44889706bc83208b6eb2": {
      "model_module": "@jupyter-widgets/controls",
      "model_module_version": "1.5.0",
      "model_name": "DescriptionStyleModel",
      "state": {
       "_model_module": "@jupyter-widgets/controls",
       "_model_module_version": "1.5.0",
       "_model_name": "DescriptionStyleModel",
       "_view_count": null,
       "_view_module": "@jupyter-widgets/base",
       "_view_module_version": "1.2.0",
       "_view_name": "StyleView",
       "description_width": ""
      }
     },
     "2d88d931d04644e4aa9e1003c3d00e8e": {
      "model_module": "@jupyter-widgets/controls",
      "model_module_version": "1.5.0",
      "model_name": "HTMLModel",
      "state": {
       "_dom_classes": [],
       "_model_module": "@jupyter-widgets/controls",
       "_model_module_version": "1.5.0",
       "_model_name": "HTMLModel",
       "_view_count": null,
       "_view_module": "@jupyter-widgets/controls",
       "_view_module_version": "1.5.0",
       "_view_name": "HTMLView",
       "description": "",
       "description_tooltip": null,
       "layout": "IPY_MODEL_b208b69eb3644e79a1209b8f565d7774",
       "placeholder": "​",
       "style": "IPY_MODEL_88809ecb0d1f42b696813e8787fb9bd6",
       "value": " 1.47G/1.47G [00:45&lt;00:00, 32.1MB/s]"
      }
     },
     "30a991e3cb804158b0b390896f57afc0": {
      "model_module": "@jupyter-widgets/controls",
      "model_module_version": "1.5.0",
      "model_name": "FloatProgressModel",
      "state": {
       "_dom_classes": [],
       "_model_module": "@jupyter-widgets/controls",
       "_model_module_version": "1.5.0",
       "_model_name": "FloatProgressModel",
       "_view_count": null,
       "_view_module": "@jupyter-widgets/controls",
       "_view_module_version": "1.5.0",
       "_view_name": "ProgressView",
       "bar_style": "success",
       "description": "Downloading: 100%",
       "description_tooltip": null,
       "layout": "IPY_MODEL_0c70735f88634f419f78ad2c3795f059",
       "max": 468.0,
       "min": 0.0,
       "orientation": "horizontal",
       "style": "IPY_MODEL_ed27242d5b6740f5820d8035f57f7f1a",
       "value": 468.0
      }
     },
     "314d8c60452542eea787df807809bf99": {
      "model_module": "@jupyter-widgets/base",
      "model_module_version": "1.2.0",
      "model_name": "LayoutModel",
      "state": {
       "_model_module": "@jupyter-widgets/base",
       "_model_module_version": "1.2.0",
       "_model_name": "LayoutModel",
       "_view_count": null,
       "_view_module": "@jupyter-widgets/base",
       "_view_module_version": "1.2.0",
       "_view_name": "LayoutView",
       "align_content": null,
       "align_items": null,
       "align_self": null,
       "border": null,
       "bottom": null,
       "display": null,
       "flex": null,
       "flex_flow": null,
       "grid_area": null,
       "grid_auto_columns": null,
       "grid_auto_flow": null,
       "grid_auto_rows": null,
       "grid_column": null,
       "grid_gap": null,
       "grid_row": null,
       "grid_template_areas": null,
       "grid_template_columns": null,
       "grid_template_rows": null,
       "height": null,
       "justify_content": null,
       "justify_items": null,
       "left": null,
       "margin": null,
       "max_height": null,
       "max_width": null,
       "min_height": null,
       "min_width": null,
       "object_fit": null,
       "object_position": null,
       "order": null,
       "overflow": null,
       "overflow_x": null,
       "overflow_y": null,
       "padding": null,
       "right": null,
       "top": null,
       "visibility": null,
       "width": null
      }
     },
     "37a93e69f48041b5b2fd56012f1bbbb5": {
      "model_module": "@jupyter-widgets/base",
      "model_module_version": "1.2.0",
      "model_name": "LayoutModel",
      "state": {
       "_model_module": "@jupyter-widgets/base",
       "_model_module_version": "1.2.0",
       "_model_name": "LayoutModel",
       "_view_count": null,
       "_view_module": "@jupyter-widgets/base",
       "_view_module_version": "1.2.0",
       "_view_name": "LayoutView",
       "align_content": null,
       "align_items": null,
       "align_self": null,
       "border": null,
       "bottom": null,
       "display": null,
       "flex": null,
       "flex_flow": null,
       "grid_area": null,
       "grid_auto_columns": null,
       "grid_auto_flow": null,
       "grid_auto_rows": null,
       "grid_column": null,
       "grid_gap": null,
       "grid_row": null,
       "grid_template_areas": null,
       "grid_template_columns": null,
       "grid_template_rows": null,
       "height": null,
       "justify_content": null,
       "justify_items": null,
       "left": null,
       "margin": null,
       "max_height": null,
       "max_width": null,
       "min_height": null,
       "min_width": null,
       "object_fit": null,
       "object_position": null,
       "order": null,
       "overflow": null,
       "overflow_x": null,
       "overflow_y": null,
       "padding": null,
       "right": null,
       "top": null,
       "visibility": null,
       "width": null
      }
     },
     "3bab7149855a40e186c050c81fe17ad9": {
      "model_module": "@jupyter-widgets/controls",
      "model_module_version": "1.5.0",
      "model_name": "HTMLModel",
      "state": {
       "_dom_classes": [],
       "_model_module": "@jupyter-widgets/controls",
       "_model_module_version": "1.5.0",
       "_model_name": "HTMLModel",
       "_view_count": null,
       "_view_module": "@jupyter-widgets/controls",
       "_view_module_version": "1.5.0",
       "_view_name": "HTMLView",
       "description": "",
       "description_tooltip": null,
       "layout": "IPY_MODEL_61985b76cfd84656b4ba7251ad58abec",
       "placeholder": "​",
       "style": "IPY_MODEL_ceba79cb490a4907aed2d18855bc2010",
       "value": " 421/421 [00:00&lt;00:00, 13.2kB/s]"
      }
     },
     "3d333dc4f1da4fd7961e02f47d32e0ff": {
      "model_module": "@jupyter-widgets/base",
      "model_module_version": "1.2.0",
      "model_name": "LayoutModel",
      "state": {
       "_model_module": "@jupyter-widgets/base",
       "_model_module_version": "1.2.0",
       "_model_name": "LayoutModel",
       "_view_count": null,
       "_view_module": "@jupyter-widgets/base",
       "_view_module_version": "1.2.0",
       "_view_name": "LayoutView",
       "align_content": null,
       "align_items": null,
       "align_self": null,
       "border": null,
       "bottom": null,
       "display": null,
       "flex": null,
       "flex_flow": null,
       "grid_area": null,
       "grid_auto_columns": null,
       "grid_auto_flow": null,
       "grid_auto_rows": null,
       "grid_column": null,
       "grid_gap": null,
       "grid_row": null,
       "grid_template_areas": null,
       "grid_template_columns": null,
       "grid_template_rows": null,
       "height": null,
       "justify_content": null,
       "justify_items": null,
       "left": null,
       "margin": null,
       "max_height": null,
       "max_width": null,
       "min_height": null,
       "min_width": null,
       "object_fit": null,
       "object_position": null,
       "order": null,
       "overflow": null,
       "overflow_x": null,
       "overflow_y": null,
       "padding": null,
       "right": null,
       "top": null,
       "visibility": null,
       "width": null
      }
     },
     "3d494b6a4b464aef920b14f35df576f4": {
      "model_module": "@jupyter-widgets/controls",
      "model_module_version": "1.5.0",
      "model_name": "FloatProgressModel",
      "state": {
       "_dom_classes": [],
       "_model_module": "@jupyter-widgets/controls",
       "_model_module_version": "1.5.0",
       "_model_name": "FloatProgressModel",
       "_view_count": null,
       "_view_module": "@jupyter-widgets/controls",
       "_view_module_version": "1.5.0",
       "_view_name": "ProgressView",
       "bar_style": "success",
       "description": "Downloading: 100%",
       "description_tooltip": null,
       "layout": "IPY_MODEL_9b46cb16adcc486d848a9009d242295c",
       "max": 544773476.0,
       "min": 0.0,
       "orientation": "horizontal",
       "style": "IPY_MODEL_3e5fb860ddbc43ebab66ed78048e9a9f",
       "value": 544773476.0
      }
     },
     "3e5fb860ddbc43ebab66ed78048e9a9f": {
      "model_module": "@jupyter-widgets/controls",
      "model_module_version": "1.5.0",
      "model_name": "ProgressStyleModel",
      "state": {
       "_model_module": "@jupyter-widgets/controls",
       "_model_module_version": "1.5.0",
       "_model_name": "ProgressStyleModel",
       "_view_count": null,
       "_view_module": "@jupyter-widgets/base",
       "_view_module_version": "1.2.0",
       "_view_name": "StyleView",
       "bar_color": null,
       "description_width": "initial"
      }
     },
     "45bb58493017426195c70d86a18130ec": {
      "model_module": "@jupyter-widgets/controls",
      "model_module_version": "1.5.0",
      "model_name": "FloatProgressModel",
      "state": {
       "_dom_classes": [],
       "_model_module": "@jupyter-widgets/controls",
       "_model_module_version": "1.5.0",
       "_model_name": "FloatProgressModel",
       "_view_count": null,
       "_view_module": "@jupyter-widgets/controls",
       "_view_module_version": "1.5.0",
       "_view_name": "ProgressView",
       "bar_style": "success",
       "description": "Downloading: 100%",
       "description_tooltip": null,
       "layout": "IPY_MODEL_87cf6123f7374d9a960132121eab952f",
       "max": 1472566816.0,
       "min": 0.0,
       "orientation": "horizontal",
       "style": "IPY_MODEL_8e3644b6e9484b1baef9b4c83adb13e9",
       "value": 1472566816.0
      }
     },
     "48a204afcb2641d2a1953c02c1b25afe": {
      "model_module": "@jupyter-widgets/base",
      "model_module_version": "1.2.0",
      "model_name": "LayoutModel",
      "state": {
       "_model_module": "@jupyter-widgets/base",
       "_model_module_version": "1.2.0",
       "_model_name": "LayoutModel",
       "_view_count": null,
       "_view_module": "@jupyter-widgets/base",
       "_view_module_version": "1.2.0",
       "_view_name": "LayoutView",
       "align_content": null,
       "align_items": null,
       "align_self": null,
       "border": null,
       "bottom": null,
       "display": null,
       "flex": null,
       "flex_flow": null,
       "grid_area": null,
       "grid_auto_columns": null,
       "grid_auto_flow": null,
       "grid_auto_rows": null,
       "grid_column": null,
       "grid_gap": null,
       "grid_row": null,
       "grid_template_areas": null,
       "grid_template_columns": null,
       "grid_template_rows": null,
       "height": null,
       "justify_content": null,
       "justify_items": null,
       "left": null,
       "margin": null,
       "max_height": null,
       "max_width": null,
       "min_height": null,
       "min_width": null,
       "object_fit": null,
       "object_position": null,
       "order": null,
       "overflow": null,
       "overflow_x": null,
       "overflow_y": null,
       "padding": null,
       "right": null,
       "top": null,
       "visibility": null,
       "width": null
      }
     },
     "4f33cfdb4cfc4f009e1d94d284f5165b": {
      "model_module": "@jupyter-widgets/base",
      "model_module_version": "1.2.0",
      "model_name": "LayoutModel",
      "state": {
       "_model_module": "@jupyter-widgets/base",
       "_model_module_version": "1.2.0",
       "_model_name": "LayoutModel",
       "_view_count": null,
       "_view_module": "@jupyter-widgets/base",
       "_view_module_version": "1.2.0",
       "_view_name": "LayoutView",
       "align_content": null,
       "align_items": null,
       "align_self": null,
       "border": null,
       "bottom": null,
       "display": null,
       "flex": null,
       "flex_flow": null,
       "grid_area": null,
       "grid_auto_columns": null,
       "grid_auto_flow": null,
       "grid_auto_rows": null,
       "grid_column": null,
       "grid_gap": null,
       "grid_row": null,
       "grid_template_areas": null,
       "grid_template_columns": null,
       "grid_template_rows": null,
       "height": null,
       "justify_content": null,
       "justify_items": null,
       "left": null,
       "margin": null,
       "max_height": null,
       "max_width": null,
       "min_height": null,
       "min_width": null,
       "object_fit": null,
       "object_position": null,
       "order": null,
       "overflow": null,
       "overflow_x": null,
       "overflow_y": null,
       "padding": null,
       "right": null,
       "top": null,
       "visibility": null,
       "width": null
      }
     },
     "4f9e3c6084d24b2cbaadde5d651d7264": {
      "model_module": "@jupyter-widgets/base",
      "model_module_version": "1.2.0",
      "model_name": "LayoutModel",
      "state": {
       "_model_module": "@jupyter-widgets/base",
       "_model_module_version": "1.2.0",
       "_model_name": "LayoutModel",
       "_view_count": null,
       "_view_module": "@jupyter-widgets/base",
       "_view_module_version": "1.2.0",
       "_view_name": "LayoutView",
       "align_content": null,
       "align_items": null,
       "align_self": null,
       "border": null,
       "bottom": null,
       "display": null,
       "flex": null,
       "flex_flow": null,
       "grid_area": null,
       "grid_auto_columns": null,
       "grid_auto_flow": null,
       "grid_auto_rows": null,
       "grid_column": null,
       "grid_gap": null,
       "grid_row": null,
       "grid_template_areas": null,
       "grid_template_columns": null,
       "grid_template_rows": null,
       "height": null,
       "justify_content": null,
       "justify_items": null,
       "left": null,
       "margin": null,
       "max_height": null,
       "max_width": null,
       "min_height": null,
       "min_width": null,
       "object_fit": null,
       "object_position": null,
       "order": null,
       "overflow": null,
       "overflow_x": null,
       "overflow_y": null,
       "padding": null,
       "right": null,
       "top": null,
       "visibility": null,
       "width": null
      }
     },
     "518b8aa208a74af6b08755265cd6d147": {
      "model_module": "@jupyter-widgets/controls",
      "model_module_version": "1.5.0",
      "model_name": "HBoxModel",
      "state": {
       "_dom_classes": [],
       "_model_module": "@jupyter-widgets/controls",
       "_model_module_version": "1.5.0",
       "_model_name": "HBoxModel",
       "_view_count": null,
       "_view_module": "@jupyter-widgets/controls",
       "_view_module_version": "1.5.0",
       "_view_name": "HBoxView",
       "box_style": "",
       "children": [
        "IPY_MODEL_f66ce61ab08d4b9d8d506e2921cc952a",
        "IPY_MODEL_8c6ef548bd98469a82a26e8bedc00185"
       ],
       "layout": "IPY_MODEL_f03da0f5600c419cb3a68c4a9be64a83"
      }
     },
     "523cf83285184f7d98c3ec276b273e8b": {
      "model_module": "@jupyter-widgets/base",
      "model_module_version": "1.2.0",
      "model_name": "LayoutModel",
      "state": {
       "_model_module": "@jupyter-widgets/base",
       "_model_module_version": "1.2.0",
       "_model_name": "LayoutModel",
       "_view_count": null,
       "_view_module": "@jupyter-widgets/base",
       "_view_module_version": "1.2.0",
       "_view_name": "LayoutView",
       "align_content": null,
       "align_items": null,
       "align_self": null,
       "border": null,
       "bottom": null,
       "display": null,
       "flex": null,
       "flex_flow": null,
       "grid_area": null,
       "grid_auto_columns": null,
       "grid_auto_flow": null,
       "grid_auto_rows": null,
       "grid_column": null,
       "grid_gap": null,
       "grid_row": null,
       "grid_template_areas": null,
       "grid_template_columns": null,
       "grid_template_rows": null,
       "height": null,
       "justify_content": null,
       "justify_items": null,
       "left": null,
       "margin": null,
       "max_height": null,
       "max_width": null,
       "min_height": null,
       "min_width": null,
       "object_fit": null,
       "object_position": null,
       "order": null,
       "overflow": null,
       "overflow_x": null,
       "overflow_y": null,
       "padding": null,
       "right": null,
       "top": null,
       "visibility": null,
       "width": null
      }
     },
     "5c2f9361443a4eceb1ad017a2b7859b2": {
      "model_module": "@jupyter-widgets/controls",
      "model_module_version": "1.5.0",
      "model_name": "ProgressStyleModel",
      "state": {
       "_model_module": "@jupyter-widgets/controls",
       "_model_module_version": "1.5.0",
       "_model_name": "ProgressStyleModel",
       "_view_count": null,
       "_view_module": "@jupyter-widgets/base",
       "_view_module_version": "1.2.0",
       "_view_name": "StyleView",
       "bar_color": null,
       "description_width": "initial"
      }
     },
     "6001dcb138f04932a2dd7ee528fdcaec": {
      "model_module": "@jupyter-widgets/base",
      "model_module_version": "1.2.0",
      "model_name": "LayoutModel",
      "state": {
       "_model_module": "@jupyter-widgets/base",
       "_model_module_version": "1.2.0",
       "_model_name": "LayoutModel",
       "_view_count": null,
       "_view_module": "@jupyter-widgets/base",
       "_view_module_version": "1.2.0",
       "_view_name": "LayoutView",
       "align_content": null,
       "align_items": null,
       "align_self": null,
       "border": null,
       "bottom": null,
       "display": null,
       "flex": null,
       "flex_flow": null,
       "grid_area": null,
       "grid_auto_columns": null,
       "grid_auto_flow": null,
       "grid_auto_rows": null,
       "grid_column": null,
       "grid_gap": null,
       "grid_row": null,
       "grid_template_areas": null,
       "grid_template_columns": null,
       "grid_template_rows": null,
       "height": null,
       "justify_content": null,
       "justify_items": null,
       "left": null,
       "margin": null,
       "max_height": null,
       "max_width": null,
       "min_height": null,
       "min_width": null,
       "object_fit": null,
       "object_position": null,
       "order": null,
       "overflow": null,
       "overflow_x": null,
       "overflow_y": null,
       "padding": null,
       "right": null,
       "top": null,
       "visibility": null,
       "width": null
      }
     },
     "61985b76cfd84656b4ba7251ad58abec": {
      "model_module": "@jupyter-widgets/base",
      "model_module_version": "1.2.0",
      "model_name": "LayoutModel",
      "state": {
       "_model_module": "@jupyter-widgets/base",
       "_model_module_version": "1.2.0",
       "_model_name": "LayoutModel",
       "_view_count": null,
       "_view_module": "@jupyter-widgets/base",
       "_view_module_version": "1.2.0",
       "_view_name": "LayoutView",
       "align_content": null,
       "align_items": null,
       "align_self": null,
       "border": null,
       "bottom": null,
       "display": null,
       "flex": null,
       "flex_flow": null,
       "grid_area": null,
       "grid_auto_columns": null,
       "grid_auto_flow": null,
       "grid_auto_rows": null,
       "grid_column": null,
       "grid_gap": null,
       "grid_row": null,
       "grid_template_areas": null,
       "grid_template_columns": null,
       "grid_template_rows": null,
       "height": null,
       "justify_content": null,
       "justify_items": null,
       "left": null,
       "margin": null,
       "max_height": null,
       "max_width": null,
       "min_height": null,
       "min_width": null,
       "object_fit": null,
       "object_position": null,
       "order": null,
       "overflow": null,
       "overflow_x": null,
       "overflow_y": null,
       "padding": null,
       "right": null,
       "top": null,
       "visibility": null,
       "width": null
      }
     },
     "68697492218e4cb6b8a9df019764ba55": {
      "model_module": "@jupyter-widgets/controls",
      "model_module_version": "1.5.0",
      "model_name": "FloatProgressModel",
      "state": {
       "_dom_classes": [],
       "_model_module": "@jupyter-widgets/controls",
       "_model_module_version": "1.5.0",
       "_model_name": "FloatProgressModel",
       "_view_count": null,
       "_view_module": "@jupyter-widgets/controls",
       "_view_module_version": "1.5.0",
       "_view_name": "ProgressView",
       "bar_style": "success",
       "description": "Downloading: 100%",
       "description_tooltip": null,
       "layout": "IPY_MODEL_203316ffccee4b66b2d25939d1983f11",
       "max": 421.0,
       "min": 0.0,
       "orientation": "horizontal",
       "style": "IPY_MODEL_bec8e82516c64ec49546677e85d814de",
       "value": 421.0
      }
     },
     "6acbff8404e741e28404645df5bec5bb": {
      "model_module": "@jupyter-widgets/base",
      "model_module_version": "1.2.0",
      "model_name": "LayoutModel",
      "state": {
       "_model_module": "@jupyter-widgets/base",
       "_model_module_version": "1.2.0",
       "_model_name": "LayoutModel",
       "_view_count": null,
       "_view_module": "@jupyter-widgets/base",
       "_view_module_version": "1.2.0",
       "_view_name": "LayoutView",
       "align_content": null,
       "align_items": null,
       "align_self": null,
       "border": null,
       "bottom": null,
       "display": null,
       "flex": null,
       "flex_flow": null,
       "grid_area": null,
       "grid_auto_columns": null,
       "grid_auto_flow": null,
       "grid_auto_rows": null,
       "grid_column": null,
       "grid_gap": null,
       "grid_row": null,
       "grid_template_areas": null,
       "grid_template_columns": null,
       "grid_template_rows": null,
       "height": null,
       "justify_content": null,
       "justify_items": null,
       "left": null,
       "margin": null,
       "max_height": null,
       "max_width": null,
       "min_height": null,
       "min_width": null,
       "object_fit": null,
       "object_position": null,
       "order": null,
       "overflow": null,
       "overflow_x": null,
       "overflow_y": null,
       "padding": null,
       "right": null,
       "top": null,
       "visibility": null,
       "width": null
      }
     },
     "6aff38c4b92c4558acdc4661bbbf6518": {
      "model_module": "@jupyter-widgets/controls",
      "model_module_version": "1.5.0",
      "model_name": "FloatProgressModel",
      "state": {
       "_dom_classes": [],
       "_model_module": "@jupyter-widgets/controls",
       "_model_module_version": "1.5.0",
       "_model_name": "FloatProgressModel",
       "_view_count": null,
       "_view_module": "@jupyter-widgets/controls",
       "_view_module_version": "1.5.0",
       "_view_name": "ProgressView",
       "bar_style": "success",
       "description": "Downloading: 100%",
       "description_tooltip": null,
       "layout": "IPY_MODEL_d997704d5f2f45ca8fd7357f629a43a6",
       "max": 15604.0,
       "min": 0.0,
       "orientation": "horizontal",
       "style": "IPY_MODEL_5c2f9361443a4eceb1ad017a2b7859b2",
       "value": 15604.0
      }
     },
     "6b60e555e9324991a90eb6c40d232ba3": {
      "model_module": "@jupyter-widgets/controls",
      "model_module_version": "1.5.0",
      "model_name": "HBoxModel",
      "state": {
       "_dom_classes": [],
       "_model_module": "@jupyter-widgets/controls",
       "_model_module_version": "1.5.0",
       "_model_name": "HBoxModel",
       "_view_count": null,
       "_view_module": "@jupyter-widgets/controls",
       "_view_module_version": "1.5.0",
       "_view_name": "HBoxView",
       "box_style": "",
       "children": [
        "IPY_MODEL_3d494b6a4b464aef920b14f35df576f4",
        "IPY_MODEL_c9731781cd104496b74e5fe2ba269005"
       ],
       "layout": "IPY_MODEL_f98611fd8bc84581ad417467eea9bf2c"
      }
     },
     "7313ad0a985346a0bf6569c83db5400d": {
      "model_module": "@jupyter-widgets/base",
      "model_module_version": "1.2.0",
      "model_name": "LayoutModel",
      "state": {
       "_model_module": "@jupyter-widgets/base",
       "_model_module_version": "1.2.0",
       "_model_name": "LayoutModel",
       "_view_count": null,
       "_view_module": "@jupyter-widgets/base",
       "_view_module_version": "1.2.0",
       "_view_name": "LayoutView",
       "align_content": null,
       "align_items": null,
       "align_self": null,
       "border": null,
       "bottom": null,
       "display": null,
       "flex": null,
       "flex_flow": null,
       "grid_area": null,
       "grid_auto_columns": null,
       "grid_auto_flow": null,
       "grid_auto_rows": null,
       "grid_column": null,
       "grid_gap": null,
       "grid_row": null,
       "grid_template_areas": null,
       "grid_template_columns": null,
       "grid_template_rows": null,
       "height": null,
       "justify_content": null,
       "justify_items": null,
       "left": null,
       "margin": null,
       "max_height": null,
       "max_width": null,
       "min_height": null,
       "min_width": null,
       "object_fit": null,
       "object_position": null,
       "order": null,
       "overflow": null,
       "overflow_x": null,
       "overflow_y": null,
       "padding": null,
       "right": null,
       "top": null,
       "visibility": null,
       "width": null
      }
     },
     "749ae08a03c246939342854a9c54b77f": {
      "model_module": "@jupyter-widgets/base",
      "model_module_version": "1.2.0",
      "model_name": "LayoutModel",
      "state": {
       "_model_module": "@jupyter-widgets/base",
       "_model_module_version": "1.2.0",
       "_model_name": "LayoutModel",
       "_view_count": null,
       "_view_module": "@jupyter-widgets/base",
       "_view_module_version": "1.2.0",
       "_view_name": "LayoutView",
       "align_content": null,
       "align_items": null,
       "align_self": null,
       "border": null,
       "bottom": null,
       "display": null,
       "flex": null,
       "flex_flow": null,
       "grid_area": null,
       "grid_auto_columns": null,
       "grid_auto_flow": null,
       "grid_auto_rows": null,
       "grid_column": null,
       "grid_gap": null,
       "grid_row": null,
       "grid_template_areas": null,
       "grid_template_columns": null,
       "grid_template_rows": null,
       "height": null,
       "justify_content": null,
       "justify_items": null,
       "left": null,
       "margin": null,
       "max_height": null,
       "max_width": null,
       "min_height": null,
       "min_width": null,
       "object_fit": null,
       "object_position": null,
       "order": null,
       "overflow": null,
       "overflow_x": null,
       "overflow_y": null,
       "padding": null,
       "right": null,
       "top": null,
       "visibility": null,
       "width": null
      }
     },
     "758f2042f50b497eaeed1164e68fdf37": {
      "model_module": "@jupyter-widgets/controls",
      "model_module_version": "1.5.0",
      "model_name": "HBoxModel",
      "state": {
       "_dom_classes": [],
       "_model_module": "@jupyter-widgets/controls",
       "_model_module_version": "1.5.0",
       "_model_name": "HBoxModel",
       "_view_count": null,
       "_view_module": "@jupyter-widgets/controls",
       "_view_module_version": "1.5.0",
       "_view_name": "HBoxView",
       "box_style": "",
       "children": [
        "IPY_MODEL_d9de707d8ff448d58c71b7cf3e24063b",
        "IPY_MODEL_c4bc8d95bc1e4d96a0b312f1fa2b6d6b"
       ],
       "layout": "IPY_MODEL_8ec2b75d5bf348ffba8fd71400a77aed"
      }
     },
     "76ecbc63482247a9968558df4ff365c7": {
      "model_module": "@jupyter-widgets/controls",
      "model_module_version": "1.5.0",
      "model_name": "HBoxModel",
      "state": {
       "_dom_classes": [],
       "_model_module": "@jupyter-widgets/controls",
       "_model_module_version": "1.5.0",
       "_model_name": "HBoxModel",
       "_view_count": null,
       "_view_module": "@jupyter-widgets/controls",
       "_view_module_version": "1.5.0",
       "_view_name": "HBoxView",
       "box_style": "",
       "children": [
        "IPY_MODEL_30a991e3cb804158b0b390896f57afc0",
        "IPY_MODEL_c66cb9948fb848a0a9a831f4ec57e60f"
       ],
       "layout": "IPY_MODEL_523cf83285184f7d98c3ec276b273e8b"
      }
     },
     "7ccafba0951c4d9db152f608bd56c2b2": {
      "model_module": "@jupyter-widgets/controls",
      "model_module_version": "1.5.0",
      "model_name": "ProgressStyleModel",
      "state": {
       "_model_module": "@jupyter-widgets/controls",
       "_model_module_version": "1.5.0",
       "_model_name": "ProgressStyleModel",
       "_view_count": null,
       "_view_module": "@jupyter-widgets/base",
       "_view_module_version": "1.2.0",
       "_view_name": "StyleView",
       "bar_color": null,
       "description_width": "initial"
      }
     },
     "80e0acf67877436ba2d1289036e44a64": {
      "model_module": "@jupyter-widgets/controls",
      "model_module_version": "1.5.0",
      "model_name": "DescriptionStyleModel",
      "state": {
       "_model_module": "@jupyter-widgets/controls",
       "_model_module_version": "1.5.0",
       "_model_name": "DescriptionStyleModel",
       "_view_count": null,
       "_view_module": "@jupyter-widgets/base",
       "_view_module_version": "1.2.0",
       "_view_name": "StyleView",
       "description_width": ""
      }
     },
     "87cf6123f7374d9a960132121eab952f": {
      "model_module": "@jupyter-widgets/base",
      "model_module_version": "1.2.0",
      "model_name": "LayoutModel",
      "state": {
       "_model_module": "@jupyter-widgets/base",
       "_model_module_version": "1.2.0",
       "_model_name": "LayoutModel",
       "_view_count": null,
       "_view_module": "@jupyter-widgets/base",
       "_view_module_version": "1.2.0",
       "_view_name": "LayoutView",
       "align_content": null,
       "align_items": null,
       "align_self": null,
       "border": null,
       "bottom": null,
       "display": null,
       "flex": null,
       "flex_flow": null,
       "grid_area": null,
       "grid_auto_columns": null,
       "grid_auto_flow": null,
       "grid_auto_rows": null,
       "grid_column": null,
       "grid_gap": null,
       "grid_row": null,
       "grid_template_areas": null,
       "grid_template_columns": null,
       "grid_template_rows": null,
       "height": null,
       "justify_content": null,
       "justify_items": null,
       "left": null,
       "margin": null,
       "max_height": null,
       "max_width": null,
       "min_height": null,
       "min_width": null,
       "object_fit": null,
       "object_position": null,
       "order": null,
       "overflow": null,
       "overflow_x": null,
       "overflow_y": null,
       "padding": null,
       "right": null,
       "top": null,
       "visibility": null,
       "width": null
      }
     },
     "88809ecb0d1f42b696813e8787fb9bd6": {
      "model_module": "@jupyter-widgets/controls",
      "model_module_version": "1.5.0",
      "model_name": "DescriptionStyleModel",
      "state": {
       "_model_module": "@jupyter-widgets/controls",
       "_model_module_version": "1.5.0",
       "_model_name": "DescriptionStyleModel",
       "_view_count": null,
       "_view_module": "@jupyter-widgets/base",
       "_view_module_version": "1.2.0",
       "_view_name": "StyleView",
       "description_width": ""
      }
     },
     "8b87529b4d234dc89cbaa83f183e674d": {
      "model_module": "@jupyter-widgets/controls",
      "model_module_version": "1.5.0",
      "model_name": "HBoxModel",
      "state": {
       "_dom_classes": [],
       "_model_module": "@jupyter-widgets/controls",
       "_model_module_version": "1.5.0",
       "_model_name": "HBoxModel",
       "_view_count": null,
       "_view_module": "@jupyter-widgets/controls",
       "_view_module_version": "1.5.0",
       "_view_name": "HBoxView",
       "box_style": "",
       "children": [
        "IPY_MODEL_6aff38c4b92c4558acdc4661bbbf6518",
        "IPY_MODEL_a32262f05b0143e6ad8c6586217ae043"
       ],
       "layout": "IPY_MODEL_ecc79d15d3d04fc284e6235c01afa83b"
      }
     },
     "8bb17563f95e4e4584905b54b918104e": {
      "model_module": "@jupyter-widgets/controls",
      "model_module_version": "1.5.0",
      "model_name": "HTMLModel",
      "state": {
       "_dom_classes": [],
       "_model_module": "@jupyter-widgets/controls",
       "_model_module_version": "1.5.0",
       "_model_name": "HTMLModel",
       "_view_count": null,
       "_view_module": "@jupyter-widgets/controls",
       "_view_module_version": "1.5.0",
       "_view_name": "HTMLView",
       "description": "",
       "description_tooltip": null,
       "layout": "IPY_MODEL_749ae08a03c246939342854a9c54b77f",
       "placeholder": "​",
       "style": "IPY_MODEL_caddf94277f14fab97f5d706fc80453b",
       "value": " 232k/232k [00:01&lt;00:00, 130kB/s]"
      }
     },
     "8c6ef548bd98469a82a26e8bedc00185": {
      "model_module": "@jupyter-widgets/controls",
      "model_module_version": "1.5.0",
      "model_name": "HTMLModel",
      "state": {
       "_dom_classes": [],
       "_model_module": "@jupyter-widgets/controls",
       "_model_module_version": "1.5.0",
       "_model_name": "HTMLModel",
       "_view_count": null,
       "_view_module": "@jupyter-widgets/controls",
       "_view_module_version": "1.5.0",
       "_view_name": "HTMLView",
       "description": "",
       "description_tooltip": null,
       "layout": "IPY_MODEL_3d333dc4f1da4fd7961e02f47d32e0ff",
       "placeholder": "​",
       "style": "IPY_MODEL_80e0acf67877436ba2d1289036e44a64",
       "value": " 228k/228k [00:01&lt;00:00, 170kB/s]"
      }
     },
     "8e3644b6e9484b1baef9b4c83adb13e9": {
      "model_module": "@jupyter-widgets/controls",
      "model_module_version": "1.5.0",
      "model_name": "ProgressStyleModel",
      "state": {
       "_model_module": "@jupyter-widgets/controls",
       "_model_module_version": "1.5.0",
       "_model_name": "ProgressStyleModel",
       "_view_count": null,
       "_view_module": "@jupyter-widgets/base",
       "_view_module_version": "1.2.0",
       "_view_name": "StyleView",
       "bar_color": null,
       "description_width": "initial"
      }
     },
     "8ec2b75d5bf348ffba8fd71400a77aed": {
      "model_module": "@jupyter-widgets/base",
      "model_module_version": "1.2.0",
      "model_name": "LayoutModel",
      "state": {
       "_model_module": "@jupyter-widgets/base",
       "_model_module_version": "1.2.0",
       "_model_name": "LayoutModel",
       "_view_count": null,
       "_view_module": "@jupyter-widgets/base",
       "_view_module_version": "1.2.0",
       "_view_name": "LayoutView",
       "align_content": null,
       "align_items": null,
       "align_self": null,
       "border": null,
       "bottom": null,
       "display": null,
       "flex": null,
       "flex_flow": null,
       "grid_area": null,
       "grid_auto_columns": null,
       "grid_auto_flow": null,
       "grid_auto_rows": null,
       "grid_column": null,
       "grid_gap": null,
       "grid_row": null,
       "grid_template_areas": null,
       "grid_template_columns": null,
       "grid_template_rows": null,
       "height": null,
       "justify_content": null,
       "justify_items": null,
       "left": null,
       "margin": null,
       "max_height": null,
       "max_width": null,
       "min_height": null,
       "min_width": null,
       "object_fit": null,
       "object_position": null,
       "order": null,
       "overflow": null,
       "overflow_x": null,
       "overflow_y": null,
       "padding": null,
       "right": null,
       "top": null,
       "visibility": null,
       "width": null
      }
     },
     "9b46cb16adcc486d848a9009d242295c": {
      "model_module": "@jupyter-widgets/base",
      "model_module_version": "1.2.0",
      "model_name": "LayoutModel",
      "state": {
       "_model_module": "@jupyter-widgets/base",
       "_model_module_version": "1.2.0",
       "_model_name": "LayoutModel",
       "_view_count": null,
       "_view_module": "@jupyter-widgets/base",
       "_view_module_version": "1.2.0",
       "_view_name": "LayoutView",
       "align_content": null,
       "align_items": null,
       "align_self": null,
       "border": null,
       "bottom": null,
       "display": null,
       "flex": null,
       "flex_flow": null,
       "grid_area": null,
       "grid_auto_columns": null,
       "grid_auto_flow": null,
       "grid_auto_rows": null,
       "grid_column": null,
       "grid_gap": null,
       "grid_row": null,
       "grid_template_areas": null,
       "grid_template_columns": null,
       "grid_template_rows": null,
       "height": null,
       "justify_content": null,
       "justify_items": null,
       "left": null,
       "margin": null,
       "max_height": null,
       "max_width": null,
       "min_height": null,
       "min_width": null,
       "object_fit": null,
       "object_position": null,
       "order": null,
       "overflow": null,
       "overflow_x": null,
       "overflow_y": null,
       "padding": null,
       "right": null,
       "top": null,
       "visibility": null,
       "width": null
      }
     },
     "9b54fba9b3a44125a2a70d4d4768f9c1": {
      "model_module": "@jupyter-widgets/base",
      "model_module_version": "1.2.0",
      "model_name": "LayoutModel",
      "state": {
       "_model_module": "@jupyter-widgets/base",
       "_model_module_version": "1.2.0",
       "_model_name": "LayoutModel",
       "_view_count": null,
       "_view_module": "@jupyter-widgets/base",
       "_view_module_version": "1.2.0",
       "_view_name": "LayoutView",
       "align_content": null,
       "align_items": null,
       "align_self": null,
       "border": null,
       "bottom": null,
       "display": null,
       "flex": null,
       "flex_flow": null,
       "grid_area": null,
       "grid_auto_columns": null,
       "grid_auto_flow": null,
       "grid_auto_rows": null,
       "grid_column": null,
       "grid_gap": null,
       "grid_row": null,
       "grid_template_areas": null,
       "grid_template_columns": null,
       "grid_template_rows": null,
       "height": null,
       "justify_content": null,
       "justify_items": null,
       "left": null,
       "margin": null,
       "max_height": null,
       "max_width": null,
       "min_height": null,
       "min_width": null,
       "object_fit": null,
       "object_position": null,
       "order": null,
       "overflow": null,
       "overflow_x": null,
       "overflow_y": null,
       "padding": null,
       "right": null,
       "top": null,
       "visibility": null,
       "width": null
      }
     },
     "9c88d7efb72c4dcd90c4e34d5c7b61b9": {
      "model_module": "@jupyter-widgets/base",
      "model_module_version": "1.2.0",
      "model_name": "LayoutModel",
      "state": {
       "_model_module": "@jupyter-widgets/base",
       "_model_module_version": "1.2.0",
       "_model_name": "LayoutModel",
       "_view_count": null,
       "_view_module": "@jupyter-widgets/base",
       "_view_module_version": "1.2.0",
       "_view_name": "LayoutView",
       "align_content": null,
       "align_items": null,
       "align_self": null,
       "border": null,
       "bottom": null,
       "display": null,
       "flex": null,
       "flex_flow": null,
       "grid_area": null,
       "grid_auto_columns": null,
       "grid_auto_flow": null,
       "grid_auto_rows": null,
       "grid_column": null,
       "grid_gap": null,
       "grid_row": null,
       "grid_template_areas": null,
       "grid_template_columns": null,
       "grid_template_rows": null,
       "height": null,
       "justify_content": null,
       "justify_items": null,
       "left": null,
       "margin": null,
       "max_height": null,
       "max_width": null,
       "min_height": null,
       "min_width": null,
       "object_fit": null,
       "object_position": null,
       "order": null,
       "overflow": null,
       "overflow_x": null,
       "overflow_y": null,
       "padding": null,
       "right": null,
       "top": null,
       "visibility": null,
       "width": null
      }
     },
     "9df4c49197f8454dbe8f840e661351ef": {
      "model_module": "@jupyter-widgets/controls",
      "model_module_version": "1.5.0",
      "model_name": "HTMLModel",
      "state": {
       "_dom_classes": [],
       "_model_module": "@jupyter-widgets/controls",
       "_model_module_version": "1.5.0",
       "_model_name": "HTMLModel",
       "_view_count": null,
       "_view_module": "@jupyter-widgets/controls",
       "_view_module_version": "1.5.0",
       "_view_name": "HTMLView",
       "description": "",
       "description_tooltip": null,
       "layout": "IPY_MODEL_48a204afcb2641d2a1953c02c1b25afe",
       "placeholder": "​",
       "style": "IPY_MODEL_25da3ef1d55346b7b9e587e5120d5206",
       "value": " 2.00/2.00 [00:00&lt;00:00, 34.4B/s]"
      }
     },
     "9f802ec2d36e45139b67e3e9c21e693c": {
      "model_module": "@jupyter-widgets/controls",
      "model_module_version": "1.5.0",
      "model_name": "HBoxModel",
      "state": {
       "_dom_classes": [],
       "_model_module": "@jupyter-widgets/controls",
       "_model_module_version": "1.5.0",
       "_model_name": "HBoxModel",
       "_view_count": null,
       "_view_module": "@jupyter-widgets/controls",
       "_view_module_version": "1.5.0",
       "_view_name": "HBoxView",
       "box_style": "",
       "children": [
        "IPY_MODEL_a52e6e732f044744901178a163f14066",
        "IPY_MODEL_8bb17563f95e4e4584905b54b918104e"
       ],
       "layout": "IPY_MODEL_aa3fa2cee2084c10a0430064b2028f27"
      }
     },
     "a32262f05b0143e6ad8c6586217ae043": {
      "model_module": "@jupyter-widgets/controls",
      "model_module_version": "1.5.0",
      "model_name": "HTMLModel",
      "state": {
       "_dom_classes": [],
       "_model_module": "@jupyter-widgets/controls",
       "_model_module_version": "1.5.0",
       "_model_name": "HTMLModel",
       "_view_count": null,
       "_view_module": "@jupyter-widgets/controls",
       "_view_module_version": "1.5.0",
       "_view_name": "HTMLView",
       "description": "",
       "description_tooltip": null,
       "layout": "IPY_MODEL_9c88d7efb72c4dcd90c4e34d5c7b61b9",
       "placeholder": "​",
       "style": "IPY_MODEL_2af806d801fe44889706bc83208b6eb2",
       "value": " 15.6k/15.6k [00:02&lt;00:00, 7.59kB/s]"
      }
     },
     "a52e6e732f044744901178a163f14066": {
      "model_module": "@jupyter-widgets/controls",
      "model_module_version": "1.5.0",
      "model_name": "FloatProgressModel",
      "state": {
       "_dom_classes": [],
       "_model_module": "@jupyter-widgets/controls",
       "_model_module_version": "1.5.0",
       "_model_name": "FloatProgressModel",
       "_view_count": null,
       "_view_module": "@jupyter-widgets/controls",
       "_view_module_version": "1.5.0",
       "_view_name": "ProgressView",
       "bar_style": "success",
       "description": "Downloading: 100%",
       "description_tooltip": null,
       "layout": "IPY_MODEL_314d8c60452542eea787df807809bf99",
       "max": 231508.0,
       "min": 0.0,
       "orientation": "horizontal",
       "style": "IPY_MODEL_7ccafba0951c4d9db152f608bd56c2b2",
       "value": 231508.0
      }
     },
     "a67a401b5bb04147ae1b4426eacdd6c9": {
      "model_module": "@jupyter-widgets/controls",
      "model_module_version": "1.5.0",
      "model_name": "ProgressStyleModel",
      "state": {
       "_model_module": "@jupyter-widgets/controls",
       "_model_module_version": "1.5.0",
       "_model_name": "ProgressStyleModel",
       "_view_count": null,
       "_view_module": "@jupyter-widgets/base",
       "_view_module_version": "1.2.0",
       "_view_name": "StyleView",
       "bar_color": null,
       "description_width": "initial"
      }
     },
     "aa3fa2cee2084c10a0430064b2028f27": {
      "model_module": "@jupyter-widgets/base",
      "model_module_version": "1.2.0",
      "model_name": "LayoutModel",
      "state": {
       "_model_module": "@jupyter-widgets/base",
       "_model_module_version": "1.2.0",
       "_model_name": "LayoutModel",
       "_view_count": null,
       "_view_module": "@jupyter-widgets/base",
       "_view_module_version": "1.2.0",
       "_view_name": "LayoutView",
       "align_content": null,
       "align_items": null,
       "align_self": null,
       "border": null,
       "bottom": null,
       "display": null,
       "flex": null,
       "flex_flow": null,
       "grid_area": null,
       "grid_auto_columns": null,
       "grid_auto_flow": null,
       "grid_auto_rows": null,
       "grid_column": null,
       "grid_gap": null,
       "grid_row": null,
       "grid_template_areas": null,
       "grid_template_columns": null,
       "grid_template_rows": null,
       "height": null,
       "justify_content": null,
       "justify_items": null,
       "left": null,
       "margin": null,
       "max_height": null,
       "max_width": null,
       "min_height": null,
       "min_width": null,
       "object_fit": null,
       "object_position": null,
       "order": null,
       "overflow": null,
       "overflow_x": null,
       "overflow_y": null,
       "padding": null,
       "right": null,
       "top": null,
       "visibility": null,
       "width": null
      }
     },
     "b208b69eb3644e79a1209b8f565d7774": {
      "model_module": "@jupyter-widgets/base",
      "model_module_version": "1.2.0",
      "model_name": "LayoutModel",
      "state": {
       "_model_module": "@jupyter-widgets/base",
       "_model_module_version": "1.2.0",
       "_model_name": "LayoutModel",
       "_view_count": null,
       "_view_module": "@jupyter-widgets/base",
       "_view_module_version": "1.2.0",
       "_view_name": "LayoutView",
       "align_content": null,
       "align_items": null,
       "align_self": null,
       "border": null,
       "bottom": null,
       "display": null,
       "flex": null,
       "flex_flow": null,
       "grid_area": null,
       "grid_auto_columns": null,
       "grid_auto_flow": null,
       "grid_auto_rows": null,
       "grid_column": null,
       "grid_gap": null,
       "grid_row": null,
       "grid_template_areas": null,
       "grid_template_columns": null,
       "grid_template_rows": null,
       "height": null,
       "justify_content": null,
       "justify_items": null,
       "left": null,
       "margin": null,
       "max_height": null,
       "max_width": null,
       "min_height": null,
       "min_width": null,
       "object_fit": null,
       "object_position": null,
       "order": null,
       "overflow": null,
       "overflow_x": null,
       "overflow_y": null,
       "padding": null,
       "right": null,
       "top": null,
       "visibility": null,
       "width": null
      }
     },
     "bba3e05829f04adb99e2977dda3b91e6": {
      "model_module": "@jupyter-widgets/controls",
      "model_module_version": "1.5.0",
      "model_name": "FloatProgressModel",
      "state": {
       "_dom_classes": [],
       "_model_module": "@jupyter-widgets/controls",
       "_model_module_version": "1.5.0",
       "_model_name": "FloatProgressModel",
       "_view_count": null,
       "_view_module": "@jupyter-widgets/controls",
       "_view_module_version": "1.5.0",
       "_view_name": "ProgressView",
       "bar_style": "success",
       "description": "Downloading: 100%",
       "description_tooltip": null,
       "layout": "IPY_MODEL_9b54fba9b3a44125a2a70d4d4768f9c1",
       "max": 2.0,
       "min": 0.0,
       "orientation": "horizontal",
       "style": "IPY_MODEL_bfc23cffcaa84b21a7446cc5f76fac4c",
       "value": 2.0
      }
     },
     "bec8e82516c64ec49546677e85d814de": {
      "model_module": "@jupyter-widgets/controls",
      "model_module_version": "1.5.0",
      "model_name": "ProgressStyleModel",
      "state": {
       "_model_module": "@jupyter-widgets/controls",
       "_model_module_version": "1.5.0",
       "_model_name": "ProgressStyleModel",
       "_view_count": null,
       "_view_module": "@jupyter-widgets/base",
       "_view_module_version": "1.2.0",
       "_view_name": "StyleView",
       "bar_color": null,
       "description_width": "initial"
      }
     },
     "bfc23cffcaa84b21a7446cc5f76fac4c": {
      "model_module": "@jupyter-widgets/controls",
      "model_module_version": "1.5.0",
      "model_name": "ProgressStyleModel",
      "state": {
       "_model_module": "@jupyter-widgets/controls",
       "_model_module_version": "1.5.0",
       "_model_name": "ProgressStyleModel",
       "_view_count": null,
       "_view_module": "@jupyter-widgets/base",
       "_view_module_version": "1.2.0",
       "_view_name": "StyleView",
       "bar_color": null,
       "description_width": "initial"
      }
     },
     "c4bc8d95bc1e4d96a0b312f1fa2b6d6b": {
      "model_module": "@jupyter-widgets/controls",
      "model_module_version": "1.5.0",
      "model_name": "HTMLModel",
      "state": {
       "_dom_classes": [],
       "_model_module": "@jupyter-widgets/controls",
       "_model_module_version": "1.5.0",
       "_model_name": "HTMLModel",
       "_view_count": null,
       "_view_module": "@jupyter-widgets/controls",
       "_view_module_version": "1.5.0",
       "_view_name": "HTMLView",
       "description": "",
       "description_tooltip": null,
       "layout": "IPY_MODEL_37a93e69f48041b5b2fd56012f1bbbb5",
       "placeholder": "​",
       "style": "IPY_MODEL_c6fce29b5e4a4eb980888d6a6186fe2a",
       "value": " 112/112 [00:01&lt;00:00, 107B/s]"
      }
     },
     "c66cb9948fb848a0a9a831f4ec57e60f": {
      "model_module": "@jupyter-widgets/controls",
      "model_module_version": "1.5.0",
      "model_name": "HTMLModel",
      "state": {
       "_dom_classes": [],
       "_model_module": "@jupyter-widgets/controls",
       "_model_module_version": "1.5.0",
       "_model_name": "HTMLModel",
       "_view_count": null,
       "_view_module": "@jupyter-widgets/controls",
       "_view_module_version": "1.5.0",
       "_view_name": "HTMLView",
       "description": "",
       "description_tooltip": null,
       "layout": "IPY_MODEL_0e7a560ba3db4afa8ab6d0091fbaed7e",
       "placeholder": "​",
       "style": "IPY_MODEL_d5825a5c6e9f4fe08ec3c783a851016c",
       "value": " 468/468 [00:02&lt;00:00, 197B/s]"
      }
     },
     "c6fce29b5e4a4eb980888d6a6186fe2a": {
      "model_module": "@jupyter-widgets/controls",
      "model_module_version": "1.5.0",
      "model_name": "DescriptionStyleModel",
      "state": {
       "_model_module": "@jupyter-widgets/controls",
       "_model_module_version": "1.5.0",
       "_model_name": "DescriptionStyleModel",
       "_view_count": null,
       "_view_module": "@jupyter-widgets/base",
       "_view_module_version": "1.2.0",
       "_view_name": "StyleView",
       "description_width": ""
      }
     },
     "c9731781cd104496b74e5fe2ba269005": {
      "model_module": "@jupyter-widgets/controls",
      "model_module_version": "1.5.0",
      "model_name": "HTMLModel",
      "state": {
       "_dom_classes": [],
       "_model_module": "@jupyter-widgets/controls",
       "_model_module_version": "1.5.0",
       "_model_name": "HTMLModel",
       "_view_count": null,
       "_view_module": "@jupyter-widgets/controls",
       "_view_module_version": "1.5.0",
       "_view_name": "HTMLView",
       "description": "",
       "description_tooltip": null,
       "layout": "IPY_MODEL_4f9e3c6084d24b2cbaadde5d651d7264",
       "placeholder": "​",
       "style": "IPY_MODEL_e821cbec149547abbb5c276e150c911c",
       "value": " 545M/545M [00:17&lt;00:00, 31.1MB/s]"
      }
     },
     "caddf94277f14fab97f5d706fc80453b": {
      "model_module": "@jupyter-widgets/controls",
      "model_module_version": "1.5.0",
      "model_name": "DescriptionStyleModel",
      "state": {
       "_model_module": "@jupyter-widgets/controls",
       "_model_module_version": "1.5.0",
       "_model_name": "DescriptionStyleModel",
       "_view_count": null,
       "_view_module": "@jupyter-widgets/base",
       "_view_module_version": "1.2.0",
       "_view_name": "StyleView",
       "description_width": ""
      }
     },
     "ceba79cb490a4907aed2d18855bc2010": {
      "model_module": "@jupyter-widgets/controls",
      "model_module_version": "1.5.0",
      "model_name": "DescriptionStyleModel",
      "state": {
       "_model_module": "@jupyter-widgets/controls",
       "_model_module_version": "1.5.0",
       "_model_name": "DescriptionStyleModel",
       "_view_count": null,
       "_view_module": "@jupyter-widgets/base",
       "_view_module_version": "1.2.0",
       "_view_name": "StyleView",
       "description_width": ""
      }
     },
     "d5825a5c6e9f4fe08ec3c783a851016c": {
      "model_module": "@jupyter-widgets/controls",
      "model_module_version": "1.5.0",
      "model_name": "DescriptionStyleModel",
      "state": {
       "_model_module": "@jupyter-widgets/controls",
       "_model_module_version": "1.5.0",
       "_model_name": "DescriptionStyleModel",
       "_view_count": null,
       "_view_module": "@jupyter-widgets/base",
       "_view_module_version": "1.2.0",
       "_view_name": "StyleView",
       "description_width": ""
      }
     },
     "d997704d5f2f45ca8fd7357f629a43a6": {
      "model_module": "@jupyter-widgets/base",
      "model_module_version": "1.2.0",
      "model_name": "LayoutModel",
      "state": {
       "_model_module": "@jupyter-widgets/base",
       "_model_module_version": "1.2.0",
       "_model_name": "LayoutModel",
       "_view_count": null,
       "_view_module": "@jupyter-widgets/base",
       "_view_module_version": "1.2.0",
       "_view_name": "LayoutView",
       "align_content": null,
       "align_items": null,
       "align_self": null,
       "border": null,
       "bottom": null,
       "display": null,
       "flex": null,
       "flex_flow": null,
       "grid_area": null,
       "grid_auto_columns": null,
       "grid_auto_flow": null,
       "grid_auto_rows": null,
       "grid_column": null,
       "grid_gap": null,
       "grid_row": null,
       "grid_template_areas": null,
       "grid_template_columns": null,
       "grid_template_rows": null,
       "height": null,
       "justify_content": null,
       "justify_items": null,
       "left": null,
       "margin": null,
       "max_height": null,
       "max_width": null,
       "min_height": null,
       "min_width": null,
       "object_fit": null,
       "object_position": null,
       "order": null,
       "overflow": null,
       "overflow_x": null,
       "overflow_y": null,
       "padding": null,
       "right": null,
       "top": null,
       "visibility": null,
       "width": null
      }
     },
     "d9de707d8ff448d58c71b7cf3e24063b": {
      "model_module": "@jupyter-widgets/controls",
      "model_module_version": "1.5.0",
      "model_name": "FloatProgressModel",
      "state": {
       "_dom_classes": [],
       "_model_module": "@jupyter-widgets/controls",
       "_model_module_version": "1.5.0",
       "_model_name": "FloatProgressModel",
       "_view_count": null,
       "_view_module": "@jupyter-widgets/controls",
       "_view_module_version": "1.5.0",
       "_view_name": "ProgressView",
       "bar_style": "success",
       "description": "Downloading: 100%",
       "description_tooltip": null,
       "layout": "IPY_MODEL_6001dcb138f04932a2dd7ee528fdcaec",
       "max": 112.0,
       "min": 0.0,
       "orientation": "horizontal",
       "style": "IPY_MODEL_195e8fd4348c45a6a0b9b2bb346ec6bb",
       "value": 112.0
      }
     },
     "e099a4f15f2d419ab3124906af6b997c": {
      "model_module": "@jupyter-widgets/controls",
      "model_module_version": "1.5.0",
      "model_name": "HBoxModel",
      "state": {
       "_dom_classes": [],
       "_model_module": "@jupyter-widgets/controls",
       "_model_module_version": "1.5.0",
       "_model_name": "HBoxModel",
       "_view_count": null,
       "_view_module": "@jupyter-widgets/controls",
       "_view_module_version": "1.5.0",
       "_view_name": "HBoxView",
       "box_style": "",
       "children": [
        "IPY_MODEL_bba3e05829f04adb99e2977dda3b91e6",
        "IPY_MODEL_9df4c49197f8454dbe8f840e661351ef"
       ],
       "layout": "IPY_MODEL_6acbff8404e741e28404645df5bec5bb"
      }
     },
     "e821cbec149547abbb5c276e150c911c": {
      "model_module": "@jupyter-widgets/controls",
      "model_module_version": "1.5.0",
      "model_name": "DescriptionStyleModel",
      "state": {
       "_model_module": "@jupyter-widgets/controls",
       "_model_module_version": "1.5.0",
       "_model_name": "DescriptionStyleModel",
       "_view_count": null,
       "_view_module": "@jupyter-widgets/base",
       "_view_module_version": "1.2.0",
       "_view_name": "StyleView",
       "description_width": ""
      }
     },
     "ecc79d15d3d04fc284e6235c01afa83b": {
      "model_module": "@jupyter-widgets/base",
      "model_module_version": "1.2.0",
      "model_name": "LayoutModel",
      "state": {
       "_model_module": "@jupyter-widgets/base",
       "_model_module_version": "1.2.0",
       "_model_name": "LayoutModel",
       "_view_count": null,
       "_view_module": "@jupyter-widgets/base",
       "_view_module_version": "1.2.0",
       "_view_name": "LayoutView",
       "align_content": null,
       "align_items": null,
       "align_self": null,
       "border": null,
       "bottom": null,
       "display": null,
       "flex": null,
       "flex_flow": null,
       "grid_area": null,
       "grid_auto_columns": null,
       "grid_auto_flow": null,
       "grid_auto_rows": null,
       "grid_column": null,
       "grid_gap": null,
       "grid_row": null,
       "grid_template_areas": null,
       "grid_template_columns": null,
       "grid_template_rows": null,
       "height": null,
       "justify_content": null,
       "justify_items": null,
       "left": null,
       "margin": null,
       "max_height": null,
       "max_width": null,
       "min_height": null,
       "min_width": null,
       "object_fit": null,
       "object_position": null,
       "order": null,
       "overflow": null,
       "overflow_x": null,
       "overflow_y": null,
       "padding": null,
       "right": null,
       "top": null,
       "visibility": null,
       "width": null
      }
     },
     "ed27242d5b6740f5820d8035f57f7f1a": {
      "model_module": "@jupyter-widgets/controls",
      "model_module_version": "1.5.0",
      "model_name": "ProgressStyleModel",
      "state": {
       "_model_module": "@jupyter-widgets/controls",
       "_model_module_version": "1.5.0",
       "_model_name": "ProgressStyleModel",
       "_view_count": null,
       "_view_module": "@jupyter-widgets/base",
       "_view_module_version": "1.2.0",
       "_view_name": "StyleView",
       "bar_color": null,
       "description_width": "initial"
      }
     },
     "f03da0f5600c419cb3a68c4a9be64a83": {
      "model_module": "@jupyter-widgets/base",
      "model_module_version": "1.2.0",
      "model_name": "LayoutModel",
      "state": {
       "_model_module": "@jupyter-widgets/base",
       "_model_module_version": "1.2.0",
       "_model_name": "LayoutModel",
       "_view_count": null,
       "_view_module": "@jupyter-widgets/base",
       "_view_module_version": "1.2.0",
       "_view_name": "LayoutView",
       "align_content": null,
       "align_items": null,
       "align_self": null,
       "border": null,
       "bottom": null,
       "display": null,
       "flex": null,
       "flex_flow": null,
       "grid_area": null,
       "grid_auto_columns": null,
       "grid_auto_flow": null,
       "grid_auto_rows": null,
       "grid_column": null,
       "grid_gap": null,
       "grid_row": null,
       "grid_template_areas": null,
       "grid_template_columns": null,
       "grid_template_rows": null,
       "height": null,
       "justify_content": null,
       "justify_items": null,
       "left": null,
       "margin": null,
       "max_height": null,
       "max_width": null,
       "min_height": null,
       "min_width": null,
       "object_fit": null,
       "object_position": null,
       "order": null,
       "overflow": null,
       "overflow_x": null,
       "overflow_y": null,
       "padding": null,
       "right": null,
       "top": null,
       "visibility": null,
       "width": null
      }
     },
     "f66ce61ab08d4b9d8d506e2921cc952a": {
      "model_module": "@jupyter-widgets/controls",
      "model_module_version": "1.5.0",
      "model_name": "FloatProgressModel",
      "state": {
       "_dom_classes": [],
       "_model_module": "@jupyter-widgets/controls",
       "_model_module_version": "1.5.0",
       "_model_name": "FloatProgressModel",
       "_view_count": null,
       "_view_module": "@jupyter-widgets/controls",
       "_view_module_version": "1.5.0",
       "_view_name": "ProgressView",
       "bar_style": "success",
       "description": "Downloading: 100%",
       "description_tooltip": null,
       "layout": "IPY_MODEL_000cb4f234f443a58a4536d9c05f0129",
       "max": 227845.0,
       "min": 0.0,
       "orientation": "horizontal",
       "style": "IPY_MODEL_a67a401b5bb04147ae1b4426eacdd6c9",
       "value": 227845.0
      }
     },
     "f98611fd8bc84581ad417467eea9bf2c": {
      "model_module": "@jupyter-widgets/base",
      "model_module_version": "1.2.0",
      "model_name": "LayoutModel",
      "state": {
       "_model_module": "@jupyter-widgets/base",
       "_model_module_version": "1.2.0",
       "_model_name": "LayoutModel",
       "_view_count": null,
       "_view_module": "@jupyter-widgets/base",
       "_view_module_version": "1.2.0",
       "_view_name": "LayoutView",
       "align_content": null,
       "align_items": null,
       "align_self": null,
       "border": null,
       "bottom": null,
       "display": null,
       "flex": null,
       "flex_flow": null,
       "grid_area": null,
       "grid_auto_columns": null,
       "grid_auto_flow": null,
       "grid_auto_rows": null,
       "grid_column": null,
       "grid_gap": null,
       "grid_row": null,
       "grid_template_areas": null,
       "grid_template_columns": null,
       "grid_template_rows": null,
       "height": null,
       "justify_content": null,
       "justify_items": null,
       "left": null,
       "margin": null,
       "max_height": null,
       "max_width": null,
       "min_height": null,
       "min_width": null,
       "object_fit": null,
       "object_position": null,
       "order": null,
       "overflow": null,
       "overflow_x": null,
       "overflow_y": null,
       "padding": null,
       "right": null,
       "top": null,
       "visibility": null,
       "width": null
      }
     }
    },
    "version_major": 2,
    "version_minor": 0
   }
  }
 },
 "nbformat": 4,
 "nbformat_minor": 4
}
